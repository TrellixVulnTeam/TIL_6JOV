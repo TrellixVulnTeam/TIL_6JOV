{
 "cells": [
  {
   "cell_type": "markdown",
   "id": "convinced-french",
   "metadata": {},
   "source": [
    "## 파이썬 연습문제"
   ]
  },
  {
   "cell_type": "markdown",
   "id": "critical-washington",
   "metadata": {},
   "source": [
    "###  입력 받은 정수가 음수인지 양수인지 0인지 알려주세요."
   ]
  },
  {
   "cell_type": "code",
   "execution_count": null,
   "id": "parental-intermediate",
   "metadata": {},
   "outputs": [],
   "source": [
    "n=int(input())\n",
    "if n >0:\n",
    "    print('양수')\n",
    "elif n <0:\n",
    "    print('음수')\n",
    "else:\n",
    "    print('0')\n",
    "    "
   ]
  },
  {
   "cell_type": "markdown",
   "id": "binding-logan",
   "metadata": {},
   "source": [
    "### 'hello'를 지정한 횟수(0<=n<=3)만큼 출력해 보세요"
   ]
  },
  {
   "cell_type": "code",
   "execution_count": 2,
   "id": "living-controversy",
   "metadata": {},
   "outputs": [],
   "source": [
    "def hello(x):\n",
    "    if 0<=x<=3:\n",
    "        print('hello'*x)"
   ]
  },
  {
   "cell_type": "code",
   "execution_count": 3,
   "id": "about-upset",
   "metadata": {},
   "outputs": [
    {
     "name": "stdout",
     "output_type": "stream",
     "text": [
      "hellohellohello\n"
     ]
    }
   ],
   "source": [
    "hello(3)"
   ]
  },
  {
   "cell_type": "markdown",
   "id": "single-moses",
   "metadata": {},
   "source": [
    "### 0~9사이의 정수를 거꾸로 출력해보세요"
   ]
  },
  {
   "cell_type": "code",
   "execution_count": 4,
   "id": "compressed-destination",
   "metadata": {},
   "outputs": [
    {
     "name": "stdout",
     "output_type": "stream",
     "text": [
      "9\n",
      "8\n",
      "7\n",
      "6\n",
      "5\n",
      "4\n",
      "3\n",
      "2\n",
      "1\n",
      "0\n"
     ]
    }
   ],
   "source": [
    "for i in range(9,-1,-1):\n",
    "    print(i)"
   ]
  },
  {
   "cell_type": "markdown",
   "id": "sophisticated-metadata",
   "metadata": {},
   "source": [
    "### 임의의 리스트를 생성한 후 , 리스트를 거꾸로 출력하는 반복문을 만들어보세요"
   ]
  },
  {
   "cell_type": "code",
   "execution_count": 5,
   "id": "partial-alfred",
   "metadata": {},
   "outputs": [
    {
     "name": "stdout",
     "output_type": "stream",
     "text": [
      "F\n",
      "E\n",
      "D\n",
      "C\n",
      "B\n",
      "A\n"
     ]
    }
   ],
   "source": [
    "li=['A','B','C','D','E','F']\n",
    "for i in range(len(li)-1,-1,-1):\n",
    "    print(li[i])"
   ]
  },
  {
   "cell_type": "code",
   "execution_count": 6,
   "id": "automotive-craft",
   "metadata": {},
   "outputs": [
    {
     "name": "stdout",
     "output_type": "stream",
     "text": [
      "0 A\n",
      "1 B\n",
      "2 C\n",
      "3 D\n",
      "4 E\n",
      "5 F\n"
     ]
    }
   ],
   "source": [
    "for i,v in enumerate(li):\n",
    "    print(i,v)"
   ]
  },
  {
   "cell_type": "markdown",
   "id": "ongoing-patent",
   "metadata": {},
   "source": [
    "### 리스트에서 중복 값을 제거해보세요."
   ]
  },
  {
   "cell_type": "code",
   "execution_count": 7,
   "id": "unnecessary-accident",
   "metadata": {},
   "outputs": [
    {
     "data": {
      "text/plain": [
       "{1, 2, 3, 5, 7, 8}"
      ]
     },
     "execution_count": 7,
     "metadata": {},
     "output_type": "execute_result"
    }
   ],
   "source": [
    "ns=[1,2,3,3,5,7,8,8]\n",
    "set(ns)"
   ]
  },
  {
   "cell_type": "markdown",
   "id": "encouraging-questionnaire",
   "metadata": {},
   "source": [
    "## Numpy 연습문제"
   ]
  },
  {
   "cell_type": "markdown",
   "id": "binding-message",
   "metadata": {},
   "source": [
    "### 1) 랜덤하게 실수로 이루어진 5*6 형태의 데이터 행렬을 만들고 이 데이터에 대해 다음과 같은 값을 구한다."
   ]
  },
  {
   "cell_type": "code",
   "execution_count": 8,
   "id": "recorded-partner",
   "metadata": {},
   "outputs": [],
   "source": [
    "import numpy as np"
   ]
  },
  {
   "cell_type": "code",
   "execution_count": 9,
   "id": "medical-thumbnail",
   "metadata": {},
   "outputs": [
    {
     "data": {
      "text/plain": [
       "array([[ 3,  7, 14, 13, 18, 18],\n",
       "       [11, 11, 18, 12, 19,  3],\n",
       "       [21,  3, 10, 19,  9,  6],\n",
       "       [10, 12, 11, 21, 23,  3],\n",
       "       [12,  1, 11,  9,  1,  0]])"
      ]
     },
     "execution_count": 9,
     "metadata": {},
     "output_type": "execute_result"
    }
   ],
   "source": [
    "arr=np.random.randint(25,size=5*6).reshape(5,6)\n",
    "arr"
   ]
  },
  {
   "cell_type": "markdown",
   "id": "enormous-reserve",
   "metadata": {},
   "source": [
    "### -전체의 최댓값"
   ]
  },
  {
   "cell_type": "code",
   "execution_count": 10,
   "id": "sporting-signature",
   "metadata": {},
   "outputs": [
    {
     "data": {
      "text/plain": [
       "23"
      ]
     },
     "execution_count": 10,
     "metadata": {},
     "output_type": "execute_result"
    }
   ],
   "source": [
    "arr.max()"
   ]
  },
  {
   "cell_type": "markdown",
   "id": "secret-steel",
   "metadata": {},
   "source": [
    "### 각 행의 합"
   ]
  },
  {
   "cell_type": "code",
   "execution_count": 11,
   "id": "royal-samuel",
   "metadata": {},
   "outputs": [
    {
     "data": {
      "text/plain": [
       "array([57, 34, 64, 74, 70, 30])"
      ]
     },
     "execution_count": 11,
     "metadata": {},
     "output_type": "execute_result"
    }
   ],
   "source": [
    "arr.sum(axis=0)"
   ]
  },
  {
   "cell_type": "markdown",
   "id": "corporate-anime",
   "metadata": {},
   "source": [
    "### 각 행의 최댓값"
   ]
  },
  {
   "cell_type": "code",
   "execution_count": 12,
   "id": "linear-cardiff",
   "metadata": {},
   "outputs": [
    {
     "data": {
      "text/plain": [
       "array([21, 12, 18, 21, 23, 18])"
      ]
     },
     "execution_count": 12,
     "metadata": {},
     "output_type": "execute_result"
    }
   ],
   "source": [
    "arr.max(axis=0)"
   ]
  },
  {
   "cell_type": "markdown",
   "id": "measured-ecuador",
   "metadata": {},
   "source": [
    "### -각 열의 평균"
   ]
  },
  {
   "cell_type": "code",
   "execution_count": 13,
   "id": "perceived-ethernet",
   "metadata": {},
   "outputs": [
    {
     "data": {
      "text/plain": [
       "array([12.16666667, 12.33333333, 11.33333333, 13.33333333,  5.66666667])"
      ]
     },
     "execution_count": 13,
     "metadata": {},
     "output_type": "execute_result"
    }
   ],
   "source": [
    "arr.mean(axis=1)"
   ]
  },
  {
   "cell_type": "markdown",
   "id": "unlimited-appreciation",
   "metadata": {},
   "source": [
    "### 각 열의 최솟값"
   ]
  },
  {
   "cell_type": "code",
   "execution_count": 14,
   "id": "adult-television",
   "metadata": {},
   "outputs": [
    {
     "data": {
      "text/plain": [
       "array([3, 3, 3, 3, 0])"
      ]
     },
     "execution_count": 14,
     "metadata": {},
     "output_type": "execute_result"
    }
   ],
   "source": [
    "arr.min(axis=1)"
   ]
  },
  {
   "cell_type": "markdown",
   "id": "iraqi-republican",
   "metadata": {},
   "source": [
    "## 2)다음 행렬과 같은 행렬이 있다."
   ]
  },
  {
   "cell_type": "code",
   "execution_count": 16,
   "id": "temporal-cherry",
   "metadata": {},
   "outputs": [
    {
     "data": {
      "text/plain": [
       "array([[ 0,  1,  2,  3,  4],\n",
       "       [ 5,  6,  7,  8,  9],\n",
       "       [10, 11, 12, 13, 14]])"
      ]
     },
     "execution_count": 16,
     "metadata": {},
     "output_type": "execute_result"
    }
   ],
   "source": [
    "m = np.array([[ 0,  1,  2,  3,  4],\n",
    "            [ 5,  6,  7,  8,  9],\n",
    "            [10, 11, 12, 13, 14]])\n",
    "m"
   ]
  },
  {
   "cell_type": "markdown",
   "id": "flush-section",
   "metadata": {},
   "source": [
    "#### 이 행렬에서 값 7을 인덱싱한다"
   ]
  },
  {
   "cell_type": "code",
   "execution_count": 17,
   "id": "mounted-cinema",
   "metadata": {},
   "outputs": [
    {
     "data": {
      "text/plain": [
       "7"
      ]
     },
     "execution_count": 17,
     "metadata": {},
     "output_type": "execute_result"
    }
   ],
   "source": [
    "m[1,2]"
   ]
  },
  {
   "cell_type": "markdown",
   "id": "accepting-standing",
   "metadata": {},
   "source": [
    "#### 이 행렬에서 값 14를 인덱싱한다"
   ]
  },
  {
   "cell_type": "code",
   "execution_count": 18,
   "id": "bright-richardson",
   "metadata": {},
   "outputs": [
    {
     "data": {
      "text/plain": [
       "14"
      ]
     },
     "execution_count": 18,
     "metadata": {},
     "output_type": "execute_result"
    }
   ],
   "source": [
    "m[2,4]"
   ]
  },
  {
   "cell_type": "markdown",
   "id": "printable-moscow",
   "metadata": {},
   "source": [
    "#### 이 행렬에서 배열 [6,7]을 슬라이싱한다"
   ]
  },
  {
   "cell_type": "code",
   "execution_count": 21,
   "id": "informative-welcome",
   "metadata": {},
   "outputs": [
    {
     "data": {
      "text/plain": [
       "array([6, 7])"
      ]
     },
     "execution_count": 21,
     "metadata": {},
     "output_type": "execute_result"
    }
   ],
   "source": [
    "m[1,1:3]"
   ]
  },
  {
   "cell_type": "markdown",
   "id": "explicit-advocacy",
   "metadata": {},
   "source": [
    "#### 이 행렬에서 배열 [7,12]을 슬라이싱한다"
   ]
  },
  {
   "cell_type": "code",
   "execution_count": 22,
   "id": "acoustic-impossible",
   "metadata": {},
   "outputs": [
    {
     "data": {
      "text/plain": [
       "array([ 7, 12])"
      ]
     },
     "execution_count": 22,
     "metadata": {},
     "output_type": "execute_result"
    }
   ],
   "source": [
    "m[1:,2]"
   ]
  },
  {
   "cell_type": "code",
   "execution_count": null,
   "id": "statewide-transition",
   "metadata": {},
   "outputs": [],
   "source": []
  },
  {
   "cell_type": "markdown",
   "id": "musical-washer",
   "metadata": {},
   "source": [
    "#### 이 행렬에서 배열[[3,4],[8,9]]을 슬라이싱 한다"
   ]
  },
  {
   "cell_type": "code",
   "execution_count": 24,
   "id": "satellite-notification",
   "metadata": {},
   "outputs": [
    {
     "data": {
      "text/plain": [
       "array([[3, 4],\n",
       "       [8, 9]])"
      ]
     },
     "execution_count": 24,
     "metadata": {},
     "output_type": "execute_result"
    }
   ],
   "source": [
    "m[:2,3:]\n",
    "#or\n",
    "m[:2,-2:]"
   ]
  },
  {
   "cell_type": "markdown",
   "id": "moving-margin",
   "metadata": {},
   "source": [
    "### 3) 지금까지 공부한 명령어를 사용하여 다음과 같은 배열을 만들어라. (코드를 효율적으로)\n"
   ]
  },
  {
   "cell_type": "code",
   "execution_count": 25,
   "id": "considerable-confidentiality",
   "metadata": {},
   "outputs": [
    {
     "data": {
      "text/plain": [
       "'\\narray([[   0.,    0.,    0.,    1.,    1.],\\n       [   0.,    0.,    0.,    1.,    1.],\\n       [   0.,    0.,    0.,    1.,    1.],\\n       [  10.,   20.,   30.,   40.,   50.],\\n       [  60.,   70.,   80.,   90.,  100.],\\n       [ 110.,  120.,  130.,  140.,  150.],\\n       [   0.,    0.,    0.,    1.,    1.],\\n       [   0.,    0.,    0.,    1.,    1.],\\n       [   0.,    0.,    0.,    1.,    1.],\\n       [  10.,   20.,   30.,   40.,   50.],\\n       [  60.,   70.,   80.,   90.,  100.],\\n       [ 110.,  120.,  130.,  140.,  150.]])\\n       '"
      ]
     },
     "execution_count": 25,
     "metadata": {},
     "output_type": "execute_result"
    }
   ],
   "source": [
    "\"\"\"\n",
    "array([[   0.,    0.,    0.,    1.,    1.],\n",
    "       [   0.,    0.,    0.,    1.,    1.],\n",
    "       [   0.,    0.,    0.,    1.,    1.],\n",
    "       [  10.,   20.,   30.,   40.,   50.],\n",
    "       [  60.,   70.,   80.,   90.,  100.],\n",
    "       [ 110.,  120.,  130.,  140.,  150.],\n",
    "       [   0.,    0.,    0.,    1.,    1.],\n",
    "       [   0.,    0.,    0.,    1.,    1.],\n",
    "       [   0.,    0.,    0.,    1.,    1.],\n",
    "       [  10.,   20.,   30.,   40.,   50.],\n",
    "       [  60.,   70.,   80.,   90.,  100.],\n",
    "       [ 110.,  120.,  130.,  140.,  150.]])\n",
    "       \"\"\""
   ]
  },
  {
   "cell_type": "code",
   "execution_count": 42,
   "id": "demonstrated-dylan",
   "metadata": {},
   "outputs": [
    {
     "data": {
      "text/plain": [
       "array([[  0.,   0.,   0.,   1.,   1.],\n",
       "       [  0.,   0.,   0.,   1.,   1.],\n",
       "       [  0.,   0.,   0.,   1.,   1.],\n",
       "       [ 10.,  20.,  30.,  40.,  50.],\n",
       "       [ 60.,  70.,  80.,  90., 100.],\n",
       "       [110., 120., 130., 140., 150.],\n",
       "       [  0.,   0.,   0.,   1.,   1.],\n",
       "       [  0.,   0.,   0.,   1.,   1.],\n",
       "       [  0.,   0.,   0.,   1.,   1.],\n",
       "       [ 10.,  20.,  30.,  40.,  50.],\n",
       "       [ 60.,  70.,  80.,  90., 100.],\n",
       "       [110., 120., 130., 140., 150.]])"
      ]
     },
     "execution_count": 42,
     "metadata": {},
     "output_type": "execute_result"
    }
   ],
   "source": [
    "a1=np.hstack([np.zeros((1,3)),np.ones((1,2))])\n",
    "a2=np.tile(a1,(3,1))\n",
    "\n",
    "b=np.linspace(10,150,15).reshape(3,5)\n",
    "b\n",
    "np.tile(np.vstack([a2,b]),(2,1))"
   ]
  },
  {
   "cell_type": "markdown",
   "id": "explicit-fourth",
   "metadata": {},
   "source": [
    "### 4)다음 행렬과 같은 배열이 있다"
   ]
  },
  {
   "cell_type": "code",
   "execution_count": 45,
   "id": "unique-hybrid",
   "metadata": {},
   "outputs": [
    {
     "data": {
      "text/plain": [
       "array([ 1,  2,  3,  4,  5,  6,  7,  8,  9, 10, 11, 12, 13, 14, 15, 16, 17,\n",
       "       18, 19, 20])"
      ]
     },
     "execution_count": 45,
     "metadata": {},
     "output_type": "execute_result"
    }
   ],
   "source": [
    "x = np.array([1, 2, 3, 4, 5, 6, 7, 8, 9, 10,\n",
    "             11, 12, 13, 14, 15, 16, 17, 18, 19, 20])\n",
    "x"
   ]
  },
  {
   "cell_type": "markdown",
   "id": "center-traffic",
   "metadata": {},
   "source": [
    "#### 이 배열에서 3의 배수를 찾아라"
   ]
  },
  {
   "cell_type": "code",
   "execution_count": 47,
   "id": "coated-timothy",
   "metadata": {},
   "outputs": [
    {
     "data": {
      "text/plain": [
       "array([ 3,  6,  9, 12, 15, 18])"
      ]
     },
     "execution_count": 47,
     "metadata": {},
     "output_type": "execute_result"
    }
   ],
   "source": [
    "x[x%3==0]"
   ]
  },
  {
   "cell_type": "markdown",
   "id": "better-eleven",
   "metadata": {},
   "source": [
    "#### 이 배열에서 4로 나누면 1이 남는 수를 찾아차"
   ]
  },
  {
   "cell_type": "code",
   "execution_count": 48,
   "id": "sharp-messenger",
   "metadata": {},
   "outputs": [
    {
     "data": {
      "text/plain": [
       "array([ 1,  5,  9, 13, 17])"
      ]
     },
     "execution_count": 48,
     "metadata": {},
     "output_type": "execute_result"
    }
   ],
   "source": [
    "x[x%4==1]"
   ]
  },
  {
   "cell_type": "markdown",
   "id": "abandoned-location",
   "metadata": {},
   "source": [
    "#### -이 배열에서 3으로 나누면 나누어지고 4로 나누면 1이 남는 수를 찾아라.\n"
   ]
  },
  {
   "cell_type": "code",
   "execution_count": 51,
   "id": "remarkable-alexandria",
   "metadata": {},
   "outputs": [
    {
     "data": {
      "text/plain": [
       "array([9])"
      ]
     },
     "execution_count": 51,
     "metadata": {},
     "output_type": "execute_result"
    }
   ],
   "source": [
    "x[(x%3==0)&(x%4==1)]"
   ]
  },
  {
   "cell_type": "markdown",
   "id": "disciplinary-carpet",
   "metadata": {},
   "source": [
    "### 5) -동전을 10번 던져 앞면(숫자 1)과 뒷면(숫자 0)이 나오는 가상 실험을 파이썬으로 작성한다.\n"
   ]
  },
  {
   "cell_type": "code",
   "execution_count": 53,
   "id": "collaborative-hindu",
   "metadata": {},
   "outputs": [
    {
     "name": "stdout",
     "output_type": "stream",
     "text": [
      "0\n",
      "1\n",
      "0\n",
      "0\n",
      "0\n",
      "0\n",
      "0\n",
      "1\n",
      "1\n",
      "1\n"
     ]
    }
   ],
   "source": [
    "for _ in range(10):\n",
    "    print(np.random.randint(2))"
   ]
  },
  {
   "cell_type": "markdown",
   "id": "signal-details",
   "metadata": {},
   "source": [
    "### -주사위를 100번 던져서 나오는 숫자의 평균을 구하라.\n"
   ]
  },
  {
   "cell_type": "code",
   "execution_count": 54,
   "id": "extra-strip",
   "metadata": {},
   "outputs": [
    {
     "data": {
      "text/plain": [
       "3.2"
      ]
     },
     "execution_count": 54,
     "metadata": {},
     "output_type": "execute_result"
    }
   ],
   "source": [
    "dice=np.random.randint(1,7,size=100)\n",
    "dice.mean()"
   ]
  },
  {
   "cell_type": "markdown",
   "id": "forbidden-guarantee",
   "metadata": {},
   "source": [
    "### 6)다음 배열은 첫번째 행(row)에 학번, 두번째 행에 영어 성적, 세번째 행에 수학 성적을 적은 배열이다. 영어 성적을 기준으로 각 열(column)을 재정렬하라.\n"
   ]
  },
  {
   "cell_type": "code",
   "execution_count": 66,
   "id": "rational-accommodation",
   "metadata": {},
   "outputs": [
    {
     "data": {
      "text/plain": [
       "array([[  1,   2,   3,   4],\n",
       "       [ 46,  99, 100,  71],\n",
       "       [ 81,  59,  90, 100]])"
      ]
     },
     "execution_count": 66,
     "metadata": {},
     "output_type": "execute_result"
    }
   ],
   "source": [
    "arr=np.array([[  1,    2,    3,    4],\n",
    "       [ 46,   99,  100,   71],\n",
    "       [ 81,   59,   90,  100]])\n",
    "arr"
   ]
  },
  {
   "cell_type": "markdown",
   "id": "focal-chamber",
   "metadata": {},
   "source": [
    "#### -영어 성적을 기준으로 각 열(column)을 재정렬하라"
   ]
  },
  {
   "cell_type": "code",
   "execution_count": 67,
   "id": "received-illinois",
   "metadata": {},
   "outputs": [
    {
     "data": {
      "text/plain": [
       "array([0, 3, 1, 2])"
      ]
     },
     "execution_count": 67,
     "metadata": {},
     "output_type": "execute_result"
    }
   ],
   "source": [
    "index = arr[1].argsort()\n",
    "index"
   ]
  },
  {
   "cell_type": "code",
   "execution_count": 63,
   "id": "effective-husband",
   "metadata": {},
   "outputs": [
    {
     "data": {
      "text/plain": [
       "array([[  1,   2,   3,   4],\n",
       "       [ 46,  71,  99, 100],\n",
       "       [ 81,  59,  90, 100]])"
      ]
     },
     "execution_count": 63,
     "metadata": {},
     "output_type": "execute_result"
    }
   ],
   "source": [
    "arr[:,index]"
   ]
  },
  {
   "cell_type": "markdown",
   "id": "detected-township",
   "metadata": {},
   "source": [
    "### iris data 유사 데이터 추출"
   ]
  },
  {
   "cell_type": "code",
   "execution_count": 76,
   "id": "possible-holiday",
   "metadata": {},
   "outputs": [
    {
     "name": "stdout",
     "output_type": "stream",
     "text": [
      "Collecting scikit-learn\n",
      "  Downloading scikit_learn-0.24.1-cp38-cp38-macosx_10_13_x86_64.whl (7.2 MB)\n",
      "\u001b[K     |████████████████████████████████| 7.2 MB 953 kB/s eta 0:00:01\n",
      "\u001b[?25hCollecting scipy\n",
      "  Downloading scipy-1.6.1-cp38-cp38-macosx_10_9_x86_64.whl (30.8 MB)\n",
      "\u001b[K     |████████████████████████████████| 30.8 MB 1.0 MB/s eta 0:00:01     |███████████████████████████████▍| 30.1 MB 1.0 MB/s eta 0:00:01\n",
      "\u001b[?25hCollecting matplotlib\n",
      "  Downloading matplotlib-3.3.4-cp38-cp38-macosx_10_9_x86_64.whl (8.5 MB)\n",
      "\u001b[K     |████████████████████████████████| 8.5 MB 1.1 MB/s eta 0:00:01\n",
      "\u001b[?25hCollecting cycler>=0.10\n",
      "  Downloading cycler-0.10.0-py2.py3-none-any.whl (6.5 kB)\n",
      "Collecting kiwisolver>=1.0.1\n",
      "  Downloading kiwisolver-1.3.1-cp38-cp38-macosx_10_9_x86_64.whl (61 kB)\n",
      "\u001b[K     |████████████████████████████████| 61 kB 327 kB/s eta 0:00:01\n",
      "\u001b[?25hRequirement already satisfied: numpy>=1.15 in /Library/Frameworks/Python.framework/Versions/3.8/lib/python3.8/site-packages (from matplotlib) (1.19.5)\n",
      "Requirement already satisfied: pyparsing!=2.0.4,!=2.1.2,!=2.1.6,>=2.0.3 in /Library/Frameworks/Python.framework/Versions/3.8/lib/python3.8/site-packages (from matplotlib) (2.4.7)\n",
      "Collecting pillow>=6.2.0\n",
      "  Downloading Pillow-8.1.2-cp38-cp38-macosx_10_10_x86_64.whl (2.2 MB)\n",
      "\u001b[K     |████████████████████████████████| 2.2 MB 1.3 MB/s eta 0:00:01\n",
      "\u001b[?25hRequirement already satisfied: python-dateutil>=2.1 in /Library/Frameworks/Python.framework/Versions/3.8/lib/python3.8/site-packages (from matplotlib) (2.8.1)\n",
      "Requirement already satisfied: six in /Library/Frameworks/Python.framework/Versions/3.8/lib/python3.8/site-packages (from cycler>=0.10->matplotlib) (1.15.0)\n",
      "Collecting threadpoolctl>=2.0.0\n",
      "  Downloading threadpoolctl-2.1.0-py3-none-any.whl (12 kB)\n",
      "Collecting joblib>=0.11\n",
      "  Downloading joblib-1.0.1-py3-none-any.whl (303 kB)\n",
      "\u001b[K     |████████████████████████████████| 303 kB 959 kB/s eta 0:00:01\n",
      "\u001b[?25hInstalling collected packages: threadpoolctl, scipy, pillow, kiwisolver, joblib, cycler, scikit-learn, matplotlib\n",
      "Successfully installed cycler-0.10.0 joblib-1.0.1 kiwisolver-1.3.1 matplotlib-3.3.4 pillow-8.1.2 scikit-learn-0.24.1 scipy-1.6.1 threadpoolctl-2.1.0\n",
      "\u001b[33mWARNING: You are using pip version 21.0; however, version 21.0.1 is available.\n",
      "You should consider upgrading via the '/Library/Frameworks/Python.framework/Versions/3.8/bin/python3.8 -m pip install --upgrade pip' command.\u001b[0m\n",
      "Note: you may need to restart the kernel to use updated packages.\n"
     ]
    }
   ],
   "source": [
    "pip install -U scikit-learn scipy matplotlib"
   ]
  },
  {
   "cell_type": "code",
   "execution_count": 77,
   "id": "healthy-migration",
   "metadata": {},
   "outputs": [],
   "source": [
    "from sklearn.datasets import load_iris\n",
    "\n"
   ]
  },
  {
   "cell_type": "code",
   "execution_count": 80,
   "id": "statistical-surgeon",
   "metadata": {},
   "outputs": [],
   "source": [
    "iris = load_iris()  # 데이터 로드\n"
   ]
  },
  {
   "cell_type": "code",
   "execution_count": 84,
   "id": "fitting-kidney",
   "metadata": {},
   "outputs": [
    {
     "data": {
      "text/plain": [
       "array([[5.1, 3.5, 1.4, 0.2],\n",
       "       [4.9, 3. , 1.4, 0.2],\n",
       "       [4.7, 3.2, 1.3, 0.2],\n",
       "       [4.6, 3.1, 1.5, 0.2],\n",
       "       [5. , 3.6, 1.4, 0.2]])"
      ]
     },
     "execution_count": 84,
     "metadata": {},
     "output_type": "execute_result"
    }
   ],
   "source": [
    "df=iris.data \n",
    "df[:5]"
   ]
  },
  {
   "cell_type": "code",
   "execution_count": 85,
   "id": "smooth-sweet",
   "metadata": {},
   "outputs": [
    {
     "data": {
      "text/plain": [
       "array([5.1, 3.5, 1.4, 0.2])"
      ]
     },
     "execution_count": 85,
     "metadata": {},
     "output_type": "execute_result"
    }
   ],
   "source": [
    "df[0,:]"
   ]
  },
  {
   "cell_type": "code",
   "execution_count": 86,
   "id": "absent-hawaiian",
   "metadata": {},
   "outputs": [
    {
     "data": {
      "text/plain": [
       "150"
      ]
     },
     "execution_count": 86,
     "metadata": {},
     "output_type": "execute_result"
    }
   ],
   "source": [
    "df.shape[0]   #행 길이\n"
   ]
  },
  {
   "cell_type": "markdown",
   "id": "royal-replacement",
   "metadata": {},
   "source": [
    "### 첫번째 꽃 데이터와 가장 유사한 꽃 데이터를 출력"
   ]
  },
  {
   "cell_type": "code",
   "execution_count": 93,
   "id": "hispanic-twins",
   "metadata": {},
   "outputs": [],
   "source": [
    "min_value=np.inf\n",
    "index=0"
   ]
  },
  {
   "cell_type": "code",
   "execution_count": 94,
   "id": "graduate-costume",
   "metadata": {},
   "outputs": [],
   "source": [
    "for i in range(1,df.shape[0]):\n",
    "    e_distance=(((df[0,:]-df[i,:])**2).sum())**0.5\n",
    "    if e_distance < min_value:\n",
    "        min_value= e_distance\n",
    "        index=i"
   ]
  },
  {
   "cell_type": "code",
   "execution_count": 95,
   "id": "alternative-fiction",
   "metadata": {},
   "outputs": [
    {
     "name": "stdout",
     "output_type": "stream",
     "text": [
      "가장 유사한 꽃 index: 17, 유클리디안 거리: 0.09999999999999998\n"
     ]
    }
   ],
   "source": [
    "print('가장 유사한 꽃 index: {}, 유클리디안 거리: {}'. format(index, min_value))"
   ]
  },
  {
   "cell_type": "code",
   "execution_count": 96,
   "id": "veterinary-effect",
   "metadata": {},
   "outputs": [
    {
     "name": "stdout",
     "output_type": "stream",
     "text": [
      "[5.1 3.5 1.4 0.2]\n",
      "[5.1 3.5 1.4 0.3]\n"
     ]
    }
   ],
   "source": [
    "print(df[0,:])\n",
    "print(df[index,:])"
   ]
  },
  {
   "cell_type": "code",
   "execution_count": null,
   "id": "czech-bridge",
   "metadata": {},
   "outputs": [],
   "source": []
  }
 ],
 "metadata": {
  "kernelspec": {
   "display_name": "Python 3",
   "language": "python",
   "name": "python3"
  },
  "language_info": {
   "codemirror_mode": {
    "name": "ipython",
    "version": 3
   },
   "file_extension": ".py",
   "mimetype": "text/x-python",
   "name": "python",
   "nbconvert_exporter": "python",
   "pygments_lexer": "ipython3",
   "version": "3.8.6"
  }
 },
 "nbformat": 4,
 "nbformat_minor": 5
}
