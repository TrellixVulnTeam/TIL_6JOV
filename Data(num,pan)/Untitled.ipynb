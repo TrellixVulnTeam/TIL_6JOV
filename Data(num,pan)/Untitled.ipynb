{
 "cells": [
  {
   "cell_type": "markdown",
   "id": "convinced-french",
   "metadata": {},
   "source": [
    "## 파이썬 연습문제"
   ]
  },
  {
   "cell_type": "markdown",
   "id": "critical-washington",
   "metadata": {},
   "source": [
    "###  입력 받은 정수가 음수인지 양수인지 0인지 알려주세요."
   ]
  },
  {
   "cell_type": "code",
   "execution_count": null,
   "id": "parental-intermediate",
   "metadata": {},
   "outputs": [],
   "source": [
    "n=int(input())\n",
    "if n >0:\n",
    "    print('양수')\n",
    "elif n <0:\n",
    "    print('음수')\n",
    "else:\n",
    "    print('0')\n",
    "    "
   ]
  },
  {
   "cell_type": "markdown",
   "id": "binding-logan",
   "metadata": {},
   "source": [
    "### 'hello'를 지정한 횟수(0<=n<=3)만큼 출력해 보세요"
   ]
  },
  {
   "cell_type": "code",
   "execution_count": 7,
   "id": "living-controversy",
   "metadata": {},
   "outputs": [],
   "source": [
    "def hello(x):\n",
    "    if 0<=x<=3:\n",
    "        print('hello'*x)"
   ]
  },
  {
   "cell_type": "code",
   "execution_count": 8,
   "id": "about-upset",
   "metadata": {},
   "outputs": [
    {
     "name": "stdout",
     "output_type": "stream",
     "text": [
      "hellohellohello\n"
     ]
    }
   ],
   "source": [
    "hello(3)"
   ]
  },
  {
   "cell_type": "markdown",
   "id": "single-moses",
   "metadata": {},
   "source": [
    "### 0~9사이의 정수를 거꾸로 출력해보세요"
   ]
  },
  {
   "cell_type": "code",
   "execution_count": 15,
   "id": "compressed-destination",
   "metadata": {},
   "outputs": [
    {
     "name": "stdout",
     "output_type": "stream",
     "text": [
      "9\n",
      "8\n",
      "7\n",
      "6\n",
      "5\n",
      "4\n",
      "3\n",
      "2\n",
      "1\n",
      "0\n"
     ]
    }
   ],
   "source": [
    "for i in range(9,-1,-1):\n",
    "    print(i)"
   ]
  },
  {
   "cell_type": "markdown",
   "id": "sophisticated-metadata",
   "metadata": {},
   "source": [
    "### 임의의 리스트를 생성한 후 , 리스트를 거꾸로 출력하는 반복문을 만들어보세요"
   ]
  },
  {
   "cell_type": "code",
   "execution_count": 16,
   "id": "partial-alfred",
   "metadata": {},
   "outputs": [
    {
     "name": "stdout",
     "output_type": "stream",
     "text": [
      "F\n",
      "E\n",
      "D\n",
      "C\n",
      "B\n",
      "A\n"
     ]
    }
   ],
   "source": [
    "li=['A','B','C','D','E','F']\n",
    "for i in range(len(li)-1,-1,-1):\n",
    "    print(li[i])"
   ]
  },
  {
   "cell_type": "code",
   "execution_count": 17,
   "id": "automotive-craft",
   "metadata": {},
   "outputs": [
    {
     "name": "stdout",
     "output_type": "stream",
     "text": [
      "0 A\n",
      "1 B\n",
      "2 C\n",
      "3 D\n",
      "4 E\n",
      "5 F\n"
     ]
    }
   ],
   "source": [
    "for i,v in enumerate(li):\n",
    "    print(i,v)"
   ]
  },
  {
   "cell_type": "markdown",
   "id": "ongoing-patent",
   "metadata": {},
   "source": [
    "### 리스트에서 중복 값을 제거해보세요."
   ]
  },
  {
   "cell_type": "code",
   "execution_count": 19,
   "id": "unnecessary-accident",
   "metadata": {},
   "outputs": [
    {
     "data": {
      "text/plain": [
       "{1, 2, 3, 5, 7, 8}"
      ]
     },
     "execution_count": 19,
     "metadata": {},
     "output_type": "execute_result"
    }
   ],
   "source": [
    "ns=[1,2,3,3,5,7,8,8]\n",
    "set(ns)"
   ]
  },
  {
   "cell_type": "markdown",
   "id": "encouraging-questionnaire",
   "metadata": {},
   "source": [
    "## Numpy 연습문제"
   ]
  },
  {
   "cell_type": "markdown",
   "id": "binding-message",
   "metadata": {},
   "source": [
    "### 1) 랜덤하게 실수로 이루어진 5*6 형태의 데이터 행렬을 만들고 이 데이터에 대해 다음과 같은 값을 구한다."
   ]
  },
  {
   "cell_type": "code",
   "execution_count": 20,
   "id": "recorded-partner",
   "metadata": {},
   "outputs": [],
   "source": [
    "import numpy as np"
   ]
  },
  {
   "cell_type": "code",
   "execution_count": 21,
   "id": "medical-thumbnail",
   "metadata": {},
   "outputs": [
    {
     "data": {
      "text/plain": [
       "array([[19,  9,  1, 14, 23, 20],\n",
       "       [14, 22,  5, 18, 21,  0],\n",
       "       [12, 20,  6, 15, 22, 14],\n",
       "       [17, 22, 17,  6, 19, 19],\n",
       "       [22,  5,  2, 13,  7, 16]])"
      ]
     },
     "execution_count": 21,
     "metadata": {},
     "output_type": "execute_result"
    }
   ],
   "source": [
    "arr=np.random.randint(25,size=5*6).reshape(5,6)\n",
    "arr"
   ]
  },
  {
   "cell_type": "markdown",
   "id": "enormous-reserve",
   "metadata": {},
   "source": [
    "### -전체의 최댓값"
   ]
  },
  {
   "cell_type": "code",
   "execution_count": 22,
   "id": "sporting-signature",
   "metadata": {},
   "outputs": [
    {
     "data": {
      "text/plain": [
       "23"
      ]
     },
     "execution_count": 22,
     "metadata": {},
     "output_type": "execute_result"
    }
   ],
   "source": [
    "arr.max()"
   ]
  },
  {
   "cell_type": "markdown",
   "id": "secret-steel",
   "metadata": {},
   "source": [
    "### 각 행의 합"
   ]
  },
  {
   "cell_type": "code",
   "execution_count": 23,
   "id": "royal-samuel",
   "metadata": {},
   "outputs": [
    {
     "data": {
      "text/plain": [
       "array([84, 78, 31, 66, 92, 69])"
      ]
     },
     "execution_count": 23,
     "metadata": {},
     "output_type": "execute_result"
    }
   ],
   "source": [
    "arr.sum(axis=0)"
   ]
  },
  {
   "cell_type": "markdown",
   "id": "corporate-anime",
   "metadata": {},
   "source": [
    "### 각 행의 최댓값"
   ]
  },
  {
   "cell_type": "code",
   "execution_count": 24,
   "id": "linear-cardiff",
   "metadata": {},
   "outputs": [
    {
     "data": {
      "text/plain": [
       "array([22, 22, 17, 18, 23, 20])"
      ]
     },
     "execution_count": 24,
     "metadata": {},
     "output_type": "execute_result"
    }
   ],
   "source": [
    "arr.max(axis=0)"
   ]
  },
  {
   "cell_type": "markdown",
   "id": "measured-ecuador",
   "metadata": {},
   "source": [
    "### -각 열의 평균"
   ]
  },
  {
   "cell_type": "code",
   "execution_count": 25,
   "id": "perceived-ethernet",
   "metadata": {},
   "outputs": [
    {
     "data": {
      "text/plain": [
       "array([14.33333333, 13.33333333, 14.83333333, 16.66666667, 10.83333333])"
      ]
     },
     "execution_count": 25,
     "metadata": {},
     "output_type": "execute_result"
    }
   ],
   "source": [
    "arr.mean(axis=1)"
   ]
  },
  {
   "cell_type": "code",
   "execution_count": null,
   "id": "blocked-processing",
   "metadata": {},
   "outputs": [],
   "source": []
  }
 ],
 "metadata": {
  "kernelspec": {
   "display_name": "Python 3",
   "language": "python",
   "name": "python3"
  },
  "language_info": {
   "codemirror_mode": {
    "name": "ipython",
    "version": 3
   },
   "file_extension": ".py",
   "mimetype": "text/x-python",
   "name": "python",
   "nbconvert_exporter": "python",
   "pygments_lexer": "ipython3",
   "version": "3.8.6"
  }
 },
 "nbformat": 4,
 "nbformat_minor": 5
}
