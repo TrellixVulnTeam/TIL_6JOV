{
 "cells": [
  {
   "cell_type": "code",
   "execution_count": 1,
   "id": "communist-pride",
   "metadata": {},
   "outputs": [],
   "source": [
    "import numpy as np\n",
    "import matplotlib.pyplot as plt\n",
    "import seaborn as sns\n",
    "import missingno as msno\n",
    "import pandas as pd"
   ]
  },
  {
   "cell_type": "code",
   "execution_count": 2,
   "id": "personal-plenty",
   "metadata": {},
   "outputs": [
    {
     "name": "stdout",
     "output_type": "stream",
     "text": [
      "<class 'pandas.core.frame.DataFrame'>\n",
      "RangeIndex: 10886 entries, 0 to 10885\n",
      "Data columns (total 12 columns):\n",
      " #   Column      Non-Null Count  Dtype         \n",
      "---  ------      --------------  -----         \n",
      " 0   datetime    10886 non-null  datetime64[ns]\n",
      " 1   season      10886 non-null  int64         \n",
      " 2   holiday     10886 non-null  int64         \n",
      " 3   workingday  10886 non-null  int64         \n",
      " 4   weather     10886 non-null  int64         \n",
      " 5   temp        10886 non-null  float64       \n",
      " 6   atemp       10886 non-null  float64       \n",
      " 7   humidity    10886 non-null  int64         \n",
      " 8   windspeed   10886 non-null  float64       \n",
      " 9   casual      10886 non-null  int64         \n",
      " 10  registered  10886 non-null  int64         \n",
      " 11  count       10886 non-null  int64         \n",
      "dtypes: datetime64[ns](1), float64(3), int64(8)\n",
      "memory usage: 1020.7 KB\n"
     ]
    }
   ],
   "source": [
    "dfTrain = pd.read_csv('train(1).csv', parse_dates=['datetime'])\n",
    "dfTrain.info()"
   ]
  },
  {
   "cell_type": "code",
   "execution_count": 3,
   "id": "superior-correlation",
   "metadata": {},
   "outputs": [
    {
     "name": "stdout",
     "output_type": "stream",
     "text": [
      "<class 'pandas.core.frame.DataFrame'>\n",
      "RangeIndex: 6493 entries, 0 to 6492\n",
      "Data columns (total 9 columns):\n",
      " #   Column      Non-Null Count  Dtype         \n",
      "---  ------      --------------  -----         \n",
      " 0   datetime    6493 non-null   datetime64[ns]\n",
      " 1   season      6493 non-null   int64         \n",
      " 2   holiday     6493 non-null   int64         \n",
      " 3   workingday  6493 non-null   int64         \n",
      " 4   weather     6493 non-null   int64         \n",
      " 5   temp        6493 non-null   float64       \n",
      " 6   atemp       6493 non-null   float64       \n",
      " 7   humidity    6493 non-null   int64         \n",
      " 8   windspeed   6493 non-null   float64       \n",
      "dtypes: datetime64[ns](1), float64(3), int64(5)\n",
      "memory usage: 456.7 KB\n"
     ]
    }
   ],
   "source": [
    "dfTest = pd.read_csv('test.csv', parse_dates=['datetime'])\n",
    "dfTest.info()"
   ]
  },
  {
   "cell_type": "code",
   "execution_count": 4,
   "id": "raising-auckland",
   "metadata": {},
   "outputs": [],
   "source": [
    "dfTrain['year']=dfTrain['datetime'].dt.year\n",
    "dfTrain['month']=dfTrain['datetime'].dt.month\n",
    "dfTrain['day']=dfTrain['datetime'].dt.day\n",
    "dfTrain['hour']=dfTrain['datetime'].dt.hour"
   ]
  },
  {
   "cell_type": "code",
   "execution_count": 5,
   "id": "stuffed-threat",
   "metadata": {},
   "outputs": [],
   "source": [
    "dfTest['year']=dfTrain['datetime'].dt.year\n",
    "dfTest['month']=dfTrain['datetime'].dt.month\n",
    "dfTest['day']=dfTrain['datetime'].dt.day\n",
    "dfTest['hour']=dfTrain['datetime'].dt.hour"
   ]
  },
  {
   "cell_type": "code",
   "execution_count": 6,
   "id": "terminal-studio",
   "metadata": {},
   "outputs": [],
   "source": [
    "dfTrain['dayofweek']=dfTrain['datetime'].dt.dayofweek   #요일추출"
   ]
  },
  {
   "cell_type": "code",
   "execution_count": 7,
   "id": "national-amino",
   "metadata": {},
   "outputs": [],
   "source": [
    "dfTest['dayofweek']=dfTest['datetime'].dt.dayofweek"
   ]
  },
  {
   "cell_type": "code",
   "execution_count": 8,
   "id": "cognitive-insurance",
   "metadata": {},
   "outputs": [
    {
     "name": "stdout",
     "output_type": "stream",
     "text": [
      "<class 'pandas.core.frame.DataFrame'>\n",
      "RangeIndex: 10886 entries, 0 to 10885\n",
      "Data columns (total 17 columns):\n",
      " #   Column      Non-Null Count  Dtype         \n",
      "---  ------      --------------  -----         \n",
      " 0   datetime    10886 non-null  datetime64[ns]\n",
      " 1   season      10886 non-null  int64         \n",
      " 2   holiday     10886 non-null  int64         \n",
      " 3   workingday  10886 non-null  int64         \n",
      " 4   weather     10886 non-null  int64         \n",
      " 5   temp        10886 non-null  float64       \n",
      " 6   atemp       10886 non-null  float64       \n",
      " 7   humidity    10886 non-null  int64         \n",
      " 8   windspeed   10886 non-null  float64       \n",
      " 9   casual      10886 non-null  int64         \n",
      " 10  registered  10886 non-null  int64         \n",
      " 11  count       10886 non-null  int64         \n",
      " 12  year        10886 non-null  int64         \n",
      " 13  month       10886 non-null  int64         \n",
      " 14  day         10886 non-null  int64         \n",
      " 15  hour        10886 non-null  int64         \n",
      " 16  dayofweek   10886 non-null  int64         \n",
      "dtypes: datetime64[ns](1), float64(3), int64(13)\n",
      "memory usage: 1.4 MB\n"
     ]
    }
   ],
   "source": [
    "dfTrain.info()"
   ]
  },
  {
   "cell_type": "code",
   "execution_count": 13,
   "id": "collectible-brunswick",
   "metadata": {},
   "outputs": [],
   "source": [
    "dfTrain.columns\n",
    "cfn=['season', 'holiday', 'workingday', 'weather','year', 'month','hour', 'dayofweek']"
   ]
  },
  {
   "cell_type": "code",
   "execution_count": 14,
   "id": "lightweight-celebrity",
   "metadata": {},
   "outputs": [],
   "source": [
    "for v in cfn:\n",
    "    dfTrain[v]=dfTrain[v].astype('category')\n",
    "    dfTest[v]=dfTest[v].astype('category')\n",
    "    "
   ]
  },
  {
   "cell_type": "code",
   "execution_count": 15,
   "id": "tutorial-subscription",
   "metadata": {},
   "outputs": [
    {
     "name": "stdout",
     "output_type": "stream",
     "text": [
      "<class 'pandas.core.frame.DataFrame'>\n",
      "RangeIndex: 10886 entries, 0 to 10885\n",
      "Data columns (total 17 columns):\n",
      " #   Column      Non-Null Count  Dtype         \n",
      "---  ------      --------------  -----         \n",
      " 0   datetime    10886 non-null  datetime64[ns]\n",
      " 1   season      10886 non-null  category      \n",
      " 2   holiday     10886 non-null  category      \n",
      " 3   workingday  10886 non-null  category      \n",
      " 4   weather     10886 non-null  category      \n",
      " 5   temp        10886 non-null  float64       \n",
      " 6   atemp       10886 non-null  float64       \n",
      " 7   humidity    10886 non-null  int64         \n",
      " 8   windspeed   10886 non-null  float64       \n",
      " 9   casual      10886 non-null  int64         \n",
      " 10  registered  10886 non-null  int64         \n",
      " 11  count       10886 non-null  int64         \n",
      " 12  year        10886 non-null  category      \n",
      " 13  month       10886 non-null  category      \n",
      " 14  day         10886 non-null  int64         \n",
      " 15  hour        10886 non-null  category      \n",
      " 16  dayofweek   10886 non-null  category      \n",
      "dtypes: category(8), datetime64[ns](1), float64(3), int64(5)\n",
      "memory usage: 852.8 KB\n"
     ]
    }
   ],
   "source": [
    "dfTrain.info()"
   ]
  },
  {
   "cell_type": "code",
   "execution_count": 16,
   "id": "trained-money",
   "metadata": {},
   "outputs": [],
   "source": [
    "feature_names = [\"season\", \"weather\", \"temp\", \"atemp\", \"humidity\",\n",
    "                 \"year\", \"hour\", \"dayofweek\", \"holiday\", \"workingday\"\n",
    "                ]"
   ]
  },
  {
   "cell_type": "code",
   "execution_count": 17,
   "id": "experienced-booth",
   "metadata": {},
   "outputs": [
    {
     "data": {
      "text/plain": [
       "(10886, 10)"
      ]
     },
     "execution_count": 17,
     "metadata": {},
     "output_type": "execute_result"
    }
   ],
   "source": [
    "xTrain=dfTrain[feature_names]\n",
    "xTrain.shape"
   ]
  },
  {
   "cell_type": "code",
   "execution_count": 18,
   "id": "extreme-emergency",
   "metadata": {},
   "outputs": [
    {
     "data": {
      "text/plain": [
       "(6493, 10)"
      ]
     },
     "execution_count": 18,
     "metadata": {},
     "output_type": "execute_result"
    }
   ],
   "source": [
    "xTest=dfTest[feature_names]\n",
    "xTest.shape"
   ]
  },
  {
   "cell_type": "code",
   "execution_count": 26,
   "id": "proprietary-sapphire",
   "metadata": {},
   "outputs": [],
   "source": [
    "labelName='count'\n",
    "yTrain=dfTrain[labelName]  #트레이닝 데이터들의 정답 데이터"
   ]
  },
  {
   "cell_type": "code",
   "execution_count": null,
   "id": "civilian-response",
   "metadata": {},
   "outputs": [],
   "source": []
  },
  {
   "cell_type": "code",
   "execution_count": 27,
   "id": "significant-conference",
   "metadata": {},
   "outputs": [],
   "source": [
    "from sklearn.ensemble import RandomForestRegressor"
   ]
  },
  {
   "cell_type": "code",
   "execution_count": 28,
   "id": "brief-berkeley",
   "metadata": {},
   "outputs": [],
   "source": [
    "rfModel=RandomForestRegressor(n_estimators=5)   #n_estimators: 트리 개수 지정옵션"
   ]
  },
  {
   "cell_type": "code",
   "execution_count": 29,
   "id": "warming-quick",
   "metadata": {},
   "outputs": [
    {
     "data": {
      "text/plain": [
       "RandomForestRegressor(n_estimators=5)"
      ]
     },
     "execution_count": 29,
     "metadata": {},
     "output_type": "execute_result"
    }
   ],
   "source": [
    "rfModel\n"
   ]
  },
  {
   "cell_type": "code",
   "execution_count": 30,
   "id": "invalid-gardening",
   "metadata": {},
   "outputs": [
    {
     "data": {
      "text/plain": [
       "RandomForestRegressor(n_estimators=5)"
      ]
     },
     "execution_count": 30,
     "metadata": {},
     "output_type": "execute_result"
    }
   ],
   "source": [
    "rfModel.fit(xTrain, yTrain)"
   ]
  },
  {
   "cell_type": "raw",
   "id": "local-approval",
   "metadata": {},
   "source": [
    "rfModel.predict(xTrain)"
   ]
  },
  {
   "cell_type": "code",
   "execution_count": 34,
   "id": "agreed-smile",
   "metadata": {},
   "outputs": [
    {
     "data": {
      "text/plain": [
       "array([ 19.6,  40. ,  32. , ..., 171.2, 138.4,  97.6])"
      ]
     },
     "execution_count": 34,
     "metadata": {},
     "output_type": "execute_result"
    }
   ],
   "source": [
    "rfModel.predict(xTrain)"
   ]
  },
  {
   "cell_type": "code",
   "execution_count": 35,
   "id": "bottom-account",
   "metadata": {},
   "outputs": [
    {
     "data": {
      "text/plain": [
       "0         16\n",
       "1         40\n",
       "2         32\n",
       "3         13\n",
       "4          1\n",
       "        ... \n",
       "10881    336\n",
       "10882    241\n",
       "10883    168\n",
       "10884    129\n",
       "10885     88\n",
       "Name: count, Length: 10886, dtype: int64"
      ]
     },
     "execution_count": 35,
     "metadata": {},
     "output_type": "execute_result"
    }
   ],
   "source": [
    "yTrain"
   ]
  },
  {
   "cell_type": "code",
   "execution_count": 40,
   "id": "imperial-reading",
   "metadata": {},
   "outputs": [],
   "source": [
    "predTest=rfModel.predict(xTest)"
   ]
  },
  {
   "cell_type": "code",
   "execution_count": 41,
   "id": "radio-philippines",
   "metadata": {},
   "outputs": [
    {
     "data": {
      "text/plain": [
       "array([  8.6,   5. ,   3.8, ...,  94.2, 194.4, 192. ])"
      ]
     },
     "execution_count": 41,
     "metadata": {},
     "output_type": "execute_result"
    }
   ],
   "source": [
    "predTest"
   ]
  },
  {
   "cell_type": "code",
   "execution_count": 43,
   "id": "liquid-enhancement",
   "metadata": {},
   "outputs": [
    {
     "data": {
      "text/html": [
       "<div>\n",
       "<style scoped>\n",
       "    .dataframe tbody tr th:only-of-type {\n",
       "        vertical-align: middle;\n",
       "    }\n",
       "\n",
       "    .dataframe tbody tr th {\n",
       "        vertical-align: top;\n",
       "    }\n",
       "\n",
       "    .dataframe thead th {\n",
       "        text-align: right;\n",
       "    }\n",
       "</style>\n",
       "<table border=\"1\" class=\"dataframe\">\n",
       "  <thead>\n",
       "    <tr style=\"text-align: right;\">\n",
       "      <th></th>\n",
       "      <th>datetime</th>\n",
       "      <th>count</th>\n",
       "    </tr>\n",
       "  </thead>\n",
       "  <tbody>\n",
       "    <tr>\n",
       "      <th>0</th>\n",
       "      <td>2011-01-20 00:00:00</td>\n",
       "      <td>8.6</td>\n",
       "    </tr>\n",
       "    <tr>\n",
       "      <th>1</th>\n",
       "      <td>2011-01-20 01:00:00</td>\n",
       "      <td>5.0</td>\n",
       "    </tr>\n",
       "    <tr>\n",
       "      <th>2</th>\n",
       "      <td>2011-01-20 02:00:00</td>\n",
       "      <td>3.8</td>\n",
       "    </tr>\n",
       "    <tr>\n",
       "      <th>3</th>\n",
       "      <td>2011-01-20 03:00:00</td>\n",
       "      <td>4.0</td>\n",
       "    </tr>\n",
       "    <tr>\n",
       "      <th>4</th>\n",
       "      <td>2011-01-20 04:00:00</td>\n",
       "      <td>2.2</td>\n",
       "    </tr>\n",
       "    <tr>\n",
       "      <th>...</th>\n",
       "      <td>...</td>\n",
       "      <td>...</td>\n",
       "    </tr>\n",
       "    <tr>\n",
       "      <th>6488</th>\n",
       "      <td>2012-12-31 19:00:00</td>\n",
       "      <td>92.4</td>\n",
       "    </tr>\n",
       "    <tr>\n",
       "      <th>6489</th>\n",
       "      <td>2012-12-31 20:00:00</td>\n",
       "      <td>92.4</td>\n",
       "    </tr>\n",
       "    <tr>\n",
       "      <th>6490</th>\n",
       "      <td>2012-12-31 21:00:00</td>\n",
       "      <td>94.2</td>\n",
       "    </tr>\n",
       "    <tr>\n",
       "      <th>6491</th>\n",
       "      <td>2012-12-31 22:00:00</td>\n",
       "      <td>194.4</td>\n",
       "    </tr>\n",
       "    <tr>\n",
       "      <th>6492</th>\n",
       "      <td>2012-12-31 23:00:00</td>\n",
       "      <td>192.0</td>\n",
       "    </tr>\n",
       "  </tbody>\n",
       "</table>\n",
       "<p>6493 rows × 2 columns</p>\n",
       "</div>"
      ],
      "text/plain": [
       "                 datetime  count\n",
       "0     2011-01-20 00:00:00    8.6\n",
       "1     2011-01-20 01:00:00    5.0\n",
       "2     2011-01-20 02:00:00    3.8\n",
       "3     2011-01-20 03:00:00    4.0\n",
       "4     2011-01-20 04:00:00    2.2\n",
       "...                   ...    ...\n",
       "6488  2012-12-31 19:00:00   92.4\n",
       "6489  2012-12-31 20:00:00   92.4\n",
       "6490  2012-12-31 21:00:00   94.2\n",
       "6491  2012-12-31 22:00:00  194.4\n",
       "6492  2012-12-31 23:00:00  192.0\n",
       "\n",
       "[6493 rows x 2 columns]"
      ]
     },
     "execution_count": 43,
     "metadata": {},
     "output_type": "execute_result"
    }
   ],
   "source": [
    "sub=pd.read_csv('sampleSubmission.csv')\n",
    "sub\n",
    "sub['count']=predTest\n",
    "sub"
   ]
  },
  {
   "cell_type": "code",
   "execution_count": 44,
   "id": "adopted-safety",
   "metadata": {},
   "outputs": [],
   "source": [
    "sub.to_csv('mysubmission.csv',index=False)"
   ]
  },
  {
   "cell_type": "code",
   "execution_count": null,
   "id": "lovely-formula",
   "metadata": {},
   "outputs": [],
   "source": []
  }
 ],
 "metadata": {
  "kernelspec": {
   "display_name": "Python 3",
   "language": "python",
   "name": "python3"
  },
  "language_info": {
   "codemirror_mode": {
    "name": "ipython",
    "version": 3
   },
   "file_extension": ".py",
   "mimetype": "text/x-python",
   "name": "python",
   "nbconvert_exporter": "python",
   "pygments_lexer": "ipython3",
   "version": "3.8.6"
  }
 },
 "nbformat": 4,
 "nbformat_minor": 5
}
