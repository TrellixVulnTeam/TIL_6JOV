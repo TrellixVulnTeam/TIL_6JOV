{
 "cells": [
  {
   "cell_type": "code",
   "execution_count": 1,
   "id": "alpha-wrong",
   "metadata": {},
   "outputs": [],
   "source": [
    "#numpy 참고 사이트: https://numpy.org/"
   ]
  },
  {
   "cell_type": "code",
   "execution_count": 4,
   "id": "mental-strength",
   "metadata": {},
   "outputs": [
    {
     "data": {
      "text/plain": [
       "array([ True, False, False,  True, False, False])"
      ]
     },
     "execution_count": 4,
     "metadata": {},
     "output_type": "execute_result"
    }
   ],
   "source": [
    "import numpy as np  #shift+enter\n",
    "names=np.array(['Bob','Joe','Will','Bob','Joe','Will'])\n",
    "\n"
   ]
  },
  {
   "cell_type": "code",
   "execution_count": null,
   "id": "systematic-reggae",
   "metadata": {},
   "outputs": [],
   "source": [
    "names=='Bob'"
   ]
  },
  {
   "cell_type": "code",
   "execution_count": 7,
   "id": "correct-bullet",
   "metadata": {},
   "outputs": [
    {
     "data": {
      "text/plain": [
       "array([[-0.77422036,  0.65101708, -0.036529  ,  2.43213425],\n",
       "       [ 0.03553746, -0.16168727, -1.42781337,  0.24927037],\n",
       "       [ 0.34969587, -0.50383691,  1.09878003,  1.27534775],\n",
       "       [ 0.56334927, -1.39183603,  1.01078987,  0.09362136],\n",
       "       [-0.68733568,  0.23643794, -0.44920837, -0.28485182],\n",
       "       [ 1.39218785,  0.30143936, -2.40804762, -1.65668287]])"
      ]
     },
     "execution_count": 7,
     "metadata": {},
     "output_type": "execute_result"
    }
   ],
   "source": [
    "data=np.random.randn(6,4)\n",
    "data"
   ]
  },
  {
   "cell_type": "code",
   "execution_count": 8,
   "id": "frequent-canyon",
   "metadata": {},
   "outputs": [
    {
     "data": {
      "text/plain": [
       "array([[-0.77422036,  0.65101708, -0.036529  ,  2.43213425],\n",
       "       [ 0.56334927, -1.39183603,  1.01078987,  0.09362136]])"
      ]
     },
     "execution_count": 8,
     "metadata": {},
     "output_type": "execute_result"
    }
   ],
   "source": [
    "data[names=='Bob'] #'Bob'에 해당하는 (TRUE) 데이터 행 추출"
   ]
  },
  {
   "cell_type": "code",
   "execution_count": 9,
   "id": "enhanced-crash",
   "metadata": {},
   "outputs": [
    {
     "data": {
      "text/plain": [
       "array(['Bob', 'Bob'], dtype='<U4')"
      ]
     },
     "execution_count": 9,
     "metadata": {},
     "output_type": "execute_result"
    }
   ],
   "source": [
    "names[names=='Bob']"
   ]
  },
  {
   "cell_type": "code",
   "execution_count": 10,
   "id": "interstate-mystery",
   "metadata": {},
   "outputs": [
    {
     "data": {
      "text/plain": [
       "array([ True, False, False,  True, False, False])"
      ]
     },
     "execution_count": 10,
     "metadata": {},
     "output_type": "execute_result"
    }
   ],
   "source": [
    "names=='Bob'"
   ]
  },
  {
   "cell_type": "code",
   "execution_count": 13,
   "id": "bronze-genre",
   "metadata": {},
   "outputs": [
    {
     "data": {
      "text/plain": [
       "array([[-0.036529  ,  2.43213425],\n",
       "       [ 1.01078987,  0.09362136]])"
      ]
     },
     "execution_count": 13,
     "metadata": {},
     "output_type": "execute_result"
    }
   ],
   "source": [
    "data[names=='Bob', 2:]  \n",
    "\n"
   ]
  },
  {
   "cell_type": "code",
   "execution_count": 14,
   "id": "wound-quebec",
   "metadata": {},
   "outputs": [
    {
     "data": {
      "text/plain": [
       "array([[2.43213425],\n",
       "       [0.09362136]])"
      ]
     },
     "execution_count": 14,
     "metadata": {},
     "output_type": "execute_result"
    }
   ],
   "source": [
    "data[names=='Bob', 3:]  "
   ]
  },
  {
   "cell_type": "code",
   "execution_count": 15,
   "id": "insured-honduras",
   "metadata": {},
   "outputs": [
    {
     "data": {
      "text/plain": [
       "array(['Bob', 'Joe', 'Will', 'Bob', 'Joe', 'Will'], dtype='<U4')"
      ]
     },
     "execution_count": 15,
     "metadata": {},
     "output_type": "execute_result"
    }
   ],
   "source": [
    "names"
   ]
  },
  {
   "cell_type": "code",
   "execution_count": 16,
   "id": "intelligent-plymouth",
   "metadata": {},
   "outputs": [
    {
     "data": {
      "text/plain": [
       "array([False,  True,  True, False,  True,  True])"
      ]
     },
     "execution_count": 16,
     "metadata": {},
     "output_type": "execute_result"
    }
   ],
   "source": [
    "#'Bob'이 아닌 자료를 출력\n",
    "names!='Bob'"
   ]
  },
  {
   "cell_type": "code",
   "execution_count": 17,
   "id": "electric-induction",
   "metadata": {},
   "outputs": [
    {
     "data": {
      "text/plain": [
       "array([[ 0.03553746, -0.16168727, -1.42781337,  0.24927037],\n",
       "       [ 0.34969587, -0.50383691,  1.09878003,  1.27534775],\n",
       "       [-0.68733568,  0.23643794, -0.44920837, -0.28485182],\n",
       "       [ 1.39218785,  0.30143936, -2.40804762, -1.65668287]])"
      ]
     },
     "execution_count": 17,
     "metadata": {},
     "output_type": "execute_result"
    }
   ],
   "source": [
    "data[names!='Bob']"
   ]
  },
  {
   "cell_type": "code",
   "execution_count": 22,
   "id": "southeast-spine",
   "metadata": {},
   "outputs": [
    {
     "data": {
      "text/plain": [
       "array([False,  True,  True, False,  True,  True])"
      ]
     },
     "execution_count": 22,
     "metadata": {},
     "output_type": "execute_result"
    }
   ],
   "source": [
    "~(names=='Bob')  #이것도 마찬가지로 names가 Bob이 아닌 것 참조\n",
    "#비교연산 결과의 반대"
   ]
  },
  {
   "cell_type": "code",
   "execution_count": 24,
   "id": "fourth-charles",
   "metadata": {},
   "outputs": [
    {
     "data": {
      "text/plain": [
       "array([[ 0.03553746, -0.16168727, -1.42781337,  0.24927037],\n",
       "       [ 0.34969587, -0.50383691,  1.09878003,  1.27534775],\n",
       "       [-0.68733568,  0.23643794, -0.44920837, -0.28485182],\n",
       "       [ 1.39218785,  0.30143936, -2.40804762, -1.65668287]])"
      ]
     },
     "execution_count": 24,
     "metadata": {},
     "output_type": "execute_result"
    }
   ],
   "source": [
    "data[~(names=='Bob')]"
   ]
  },
  {
   "cell_type": "code",
   "execution_count": 26,
   "id": "distinct-advertiser",
   "metadata": {},
   "outputs": [],
   "source": [
    "cond=names=='Bob'  #bob이 같은지 같지 않은지 불린값을 cond에 저장"
   ]
  },
  {
   "cell_type": "code",
   "execution_count": 28,
   "id": "brilliant-niger",
   "metadata": {},
   "outputs": [
    {
     "data": {
      "text/plain": [
       "array([[ 0.03553746, -0.16168727, -1.42781337,  0.24927037],\n",
       "       [ 0.34969587, -0.50383691,  1.09878003,  1.27534775],\n",
       "       [-0.68733568,  0.23643794, -0.44920837, -0.28485182],\n",
       "       [ 1.39218785,  0.30143936, -2.40804762, -1.65668287]])"
      ]
     },
     "execution_count": 28,
     "metadata": {},
     "output_type": "execute_result"
    }
   ],
   "source": [
    "\n",
    "data[~cond]   #names가 bob이 아닌 것 참조"
   ]
  },
  {
   "cell_type": "code",
   "execution_count": 31,
   "id": "naughty-illinois",
   "metadata": {},
   "outputs": [
    {
     "data": {
      "text/plain": [
       "array(['Bob', 'Joe', 'Will', 'Bob', 'Joe', 'Will'], dtype='<U4')"
      ]
     },
     "execution_count": 31,
     "metadata": {},
     "output_type": "execute_result"
    }
   ],
   "source": [
    "names"
   ]
  },
  {
   "cell_type": "code",
   "execution_count": 30,
   "id": "established-rainbow",
   "metadata": {},
   "outputs": [
    {
     "data": {
      "text/plain": [
       "array([False, False,  True, False, False,  True])"
      ]
     },
     "execution_count": 30,
     "metadata": {},
     "output_type": "execute_result"
    }
   ],
   "source": [
    "names=='Bob'\n",
    "names=='Will'"
   ]
  },
  {
   "cell_type": "code",
   "execution_count": 33,
   "id": "amateur-battery",
   "metadata": {},
   "outputs": [
    {
     "data": {
      "text/plain": [
       "array([[-0.77422036,  0.65101708, -0.036529  ,  2.43213425],\n",
       "       [ 0.34969587, -0.50383691,  1.09878003,  1.27534775],\n",
       "       [ 0.56334927, -1.39183603,  1.01078987,  0.09362136],\n",
       "       [ 1.39218785,  0.30143936, -2.40804762, -1.65668287]])"
      ]
     },
     "execution_count": 33,
     "metadata": {},
     "output_type": "execute_result"
    }
   ],
   "source": [
    "mask=(names=='Bob')|(names=='Will')   #bob이거나 will인 것 TRUE\n",
    "data[mask]   #이름이 bob이거나 will인 사람의 데이터 추출"
   ]
  },
  {
   "cell_type": "code",
   "execution_count": 34,
   "id": "dangerous-teddy",
   "metadata": {},
   "outputs": [
    {
     "data": {
      "text/plain": [
       "array([[-0.77422036,  0.65101708, -0.036529  ,  2.43213425],\n",
       "       [ 0.03553746, -0.16168727, -1.42781337,  0.24927037],\n",
       "       [ 0.34969587, -0.50383691,  1.09878003,  1.27534775],\n",
       "       [ 0.56334927, -1.39183603,  1.01078987,  0.09362136],\n",
       "       [-0.68733568,  0.23643794, -0.44920837, -0.28485182],\n",
       "       [ 1.39218785,  0.30143936, -2.40804762, -1.65668287]])"
      ]
     },
     "execution_count": 34,
     "metadata": {},
     "output_type": "execute_result"
    }
   ],
   "source": [
    "data"
   ]
  },
  {
   "cell_type": "code",
   "execution_count": 35,
   "id": "retained-purple",
   "metadata": {},
   "outputs": [
    {
     "data": {
      "text/plain": [
       "array([[ True, False,  True, False],\n",
       "       [False,  True,  True, False],\n",
       "       [False,  True, False, False],\n",
       "       [False,  True, False, False],\n",
       "       [ True, False,  True,  True],\n",
       "       [False, False,  True,  True]])"
      ]
     },
     "execution_count": 35,
     "metadata": {},
     "output_type": "execute_result"
    }
   ],
   "source": [
    "data<0   #0보다 작은 값 TRUE"
   ]
  },
  {
   "cell_type": "code",
   "execution_count": 36,
   "id": "alert-metro",
   "metadata": {},
   "outputs": [
    {
     "data": {
      "text/plain": [
       "array([-0.77422036, -0.036529  , -0.16168727, -1.42781337, -0.50383691,\n",
       "       -1.39183603, -0.68733568, -0.44920837, -0.28485182, -2.40804762,\n",
       "       -1.65668287])"
      ]
     },
     "execution_count": 36,
     "metadata": {},
     "output_type": "execute_result"
    }
   ],
   "source": [
    "data[data<0]   #TRUE에 해당하는 data값 나옴 "
   ]
  },
  {
   "cell_type": "code",
   "execution_count": 37,
   "id": "hollow-figure",
   "metadata": {},
   "outputs": [],
   "source": [
    "data[data<0]=0    #음수인 것들은 모두 0으로 대입"
   ]
  },
  {
   "cell_type": "code",
   "execution_count": 38,
   "id": "congressional-albania",
   "metadata": {},
   "outputs": [
    {
     "data": {
      "text/plain": [
       "array([[0.        , 0.65101708, 0.        , 2.43213425],\n",
       "       [0.03553746, 0.        , 0.        , 0.24927037],\n",
       "       [0.34969587, 0.        , 1.09878003, 1.27534775],\n",
       "       [0.56334927, 0.        , 1.01078987, 0.09362136],\n",
       "       [0.        , 0.23643794, 0.        , 0.        ],\n",
       "       [1.39218785, 0.30143936, 0.        , 0.        ]])"
      ]
     },
     "execution_count": 38,
     "metadata": {},
     "output_type": "execute_result"
    }
   ],
   "source": [
    "data"
   ]
  },
  {
   "cell_type": "markdown",
   "id": "floating-strand",
   "metadata": {},
   "source": [
    "### names에서 이름이 will이 아닌 사람들에 대한 \n",
    "### index를 추출하여 data배열의 해당 index자료 값을 10으로 변경\n",
    "\n"
   ]
  },
  {
   "cell_type": "code",
   "execution_count": 41,
   "id": "ruled-translation",
   "metadata": {},
   "outputs": [],
   "source": [
    "names\n",
    "data\n",
    "data[names!='Will']=10"
   ]
  },
  {
   "cell_type": "code",
   "execution_count": 42,
   "id": "unsigned-lafayette",
   "metadata": {},
   "outputs": [
    {
     "data": {
      "text/plain": [
       "array([[10.        , 10.        , 10.        , 10.        ],\n",
       "       [10.        , 10.        , 10.        , 10.        ],\n",
       "       [ 0.34969587,  0.        ,  1.09878003,  1.27534775],\n",
       "       [10.        , 10.        , 10.        , 10.        ],\n",
       "       [10.        , 10.        , 10.        , 10.        ],\n",
       "       [ 1.39218785,  0.30143936,  0.        ,  0.        ]])"
      ]
     },
     "execution_count": 42,
     "metadata": {},
     "output_type": "execute_result"
    }
   ],
   "source": [
    "data"
   ]
  },
  {
   "cell_type": "code",
   "execution_count": 43,
   "id": "classical-attack",
   "metadata": {},
   "outputs": [],
   "source": [
    "arr=np.zeros((8,4))"
   ]
  },
  {
   "cell_type": "code",
   "execution_count": 47,
   "id": "dynamic-introduction",
   "metadata": {},
   "outputs": [
    {
     "ename": "IndexError",
     "evalue": "index 8 is out of bounds for axis 0 with size 8",
     "output_type": "error",
     "traceback": [
      "\u001b[0;31m---------------------------------------------------------------------------\u001b[0m",
      "\u001b[0;31mIndexError\u001b[0m                                Traceback (most recent call last)",
      "\u001b[0;32m<ipython-input-47-55d933871499>\u001b[0m in \u001b[0;36m<module>\u001b[0;34m\u001b[0m\n\u001b[0;32m----> 1\u001b[0;31m \u001b[0marr\u001b[0m\u001b[0;34m[\u001b[0m\u001b[0;36m8\u001b[0m\u001b[0;34m]\u001b[0m   \u001b[0;31m#index에러 뜸\u001b[0m\u001b[0;34m\u001b[0m\u001b[0;34m\u001b[0m\u001b[0m\n\u001b[0m",
      "\u001b[0;31mIndexError\u001b[0m: index 8 is out of bounds for axis 0 with size 8"
     ]
    }
   ],
   "source": [
    "arr[8]   #index에러 뜸"
   ]
  },
  {
   "cell_type": "code",
   "execution_count": 48,
   "id": "conventional-fancy",
   "metadata": {},
   "outputs": [],
   "source": [
    "arr[0]=10"
   ]
  },
  {
   "cell_type": "code",
   "execution_count": 49,
   "id": "prescribed-albania",
   "metadata": {},
   "outputs": [
    {
     "data": {
      "text/plain": [
       "array([[10., 10., 10., 10.],\n",
       "       [ 0.,  0.,  0.,  0.],\n",
       "       [ 0.,  0.,  0.,  0.],\n",
       "       [ 0.,  0.,  0.,  0.],\n",
       "       [ 0.,  0.,  0.,  0.],\n",
       "       [ 0.,  0.,  0.,  0.],\n",
       "       [ 0.,  0.,  0.,  0.],\n",
       "       [ 0.,  0.,  0.,  0.]])"
      ]
     },
     "execution_count": 49,
     "metadata": {},
     "output_type": "execute_result"
    }
   ],
   "source": [
    "arr"
   ]
  },
  {
   "cell_type": "code",
   "execution_count": 50,
   "id": "ideal-neutral",
   "metadata": {},
   "outputs": [],
   "source": [
    "for i in range(8):\n",
    "    arr[i]=i+10"
   ]
  },
  {
   "cell_type": "code",
   "execution_count": 51,
   "id": "relevant-doctrine",
   "metadata": {},
   "outputs": [
    {
     "data": {
      "text/plain": [
       "array([[10., 10., 10., 10.],\n",
       "       [11., 11., 11., 11.],\n",
       "       [12., 12., 12., 12.],\n",
       "       [13., 13., 13., 13.],\n",
       "       [14., 14., 14., 14.],\n",
       "       [15., 15., 15., 15.],\n",
       "       [16., 16., 16., 16.],\n",
       "       [17., 17., 17., 17.]])"
      ]
     },
     "execution_count": 51,
     "metadata": {},
     "output_type": "execute_result"
    }
   ],
   "source": [
    "arr"
   ]
  },
  {
   "cell_type": "code",
   "execution_count": 52,
   "id": "coupled-korean",
   "metadata": {},
   "outputs": [
    {
     "data": {
      "text/plain": [
       "array([14., 14., 14., 14.])"
      ]
     },
     "execution_count": 52,
     "metadata": {},
     "output_type": "execute_result"
    }
   ],
   "source": [
    "arr[4]"
   ]
  },
  {
   "cell_type": "code",
   "execution_count": 53,
   "id": "intense-northeast",
   "metadata": {},
   "outputs": [
    {
     "data": {
      "text/plain": [
       "array([[14., 14., 14., 14.]])"
      ]
     },
     "execution_count": 53,
     "metadata": {},
     "output_type": "execute_result"
    }
   ],
   "source": [
    "arr[[4]]   #arr[4]와 shape이 다름"
   ]
  },
  {
   "cell_type": "code",
   "execution_count": 55,
   "id": "republican-pottery",
   "metadata": {},
   "outputs": [
    {
     "data": {
      "text/plain": [
       "(1, 4)"
      ]
     },
     "execution_count": 55,
     "metadata": {},
     "output_type": "execute_result"
    }
   ],
   "source": [
    "arr[4].shape\n",
    "arr[[4]].shape"
   ]
  },
  {
   "cell_type": "code",
   "execution_count": 57,
   "id": "entire-acrylic",
   "metadata": {},
   "outputs": [
    {
     "data": {
      "text/plain": [
       "14.0"
      ]
     },
     "execution_count": 57,
     "metadata": {},
     "output_type": "execute_result"
    }
   ],
   "source": [
    "arr[4,3]  #4행 3열의 요소 값 출력"
   ]
  },
  {
   "cell_type": "code",
   "execution_count": 59,
   "id": "vertical-concert",
   "metadata": {},
   "outputs": [
    {
     "data": {
      "text/plain": [
       "array([[14., 14., 14., 14.],\n",
       "       [13., 13., 13., 13.]])"
      ]
     },
     "execution_count": 59,
     "metadata": {},
     "output_type": "execute_result"
    }
   ],
   "source": [
    "#두 개 이상 행을 추출하려면 대괄호는 두개를 써야함!\n",
    "\n",
    "arr[[4,3]]   #4행과 3행이 출력(지정한 순서대로 출력함)"
   ]
  },
  {
   "cell_type": "code",
   "execution_count": 60,
   "id": "accessible-portfolio",
   "metadata": {},
   "outputs": [
    {
     "data": {
      "text/plain": [
       "array([[15., 15., 15., 15.]])"
      ]
     },
     "execution_count": 60,
     "metadata": {},
     "output_type": "execute_result"
    }
   ],
   "source": [
    "arr[[-3]]  #뒤에서부터 3번째"
   ]
  },
  {
   "cell_type": "code",
   "execution_count": 63,
   "id": "liable-notebook",
   "metadata": {},
   "outputs": [
    {
     "data": {
      "text/plain": [
       "array([[15., 15., 15., 15.],\n",
       "       [13., 13., 13., 13.]])"
      ]
     },
     "execution_count": 63,
     "metadata": {},
     "output_type": "execute_result"
    }
   ],
   "source": [
    "arr[[-3,-5]]"
   ]
  },
  {
   "cell_type": "code",
   "execution_count": 69,
   "id": "canadian-dream",
   "metadata": {},
   "outputs": [
    {
     "data": {
      "text/plain": [
       "array([[10, 11, 12, 13],\n",
       "       [14, 15, 16, 17],\n",
       "       [18, 19, 20, 21],\n",
       "       [22, 23, 24, 25],\n",
       "       [26, 27, 28, 29],\n",
       "       [30, 31, 32, 33],\n",
       "       [34, 35, 36, 37],\n",
       "       [38, 39, 40, 41]])"
      ]
     },
     "execution_count": 69,
     "metadata": {},
     "output_type": "execute_result"
    }
   ],
   "source": [
    "#8행 4열 array생성, 데이터는 10~41까지 저장\n",
    "\n",
    "arr=np.arange(10,42)\n",
    "arr=arr.reshape(8,4)\n",
    "arr"
   ]
  },
  {
   "cell_type": "code",
   "execution_count": 72,
   "id": "owned-trick",
   "metadata": {},
   "outputs": [
    {
     "data": {
      "text/plain": [
       "array([[14, 15, 16, 17],\n",
       "       [30, 31, 32, 33],\n",
       "       [38, 39, 40, 41],\n",
       "       [18, 19, 20, 21]])"
      ]
     },
     "execution_count": 72,
     "metadata": {},
     "output_type": "execute_result"
    }
   ],
   "source": [
    "#arr에서 1,5,7,2행을 추출\n",
    "arr[[1,5,7,2]]"
   ]
  },
  {
   "cell_type": "code",
   "execution_count": 73,
   "id": "macro-tuesday",
   "metadata": {},
   "outputs": [
    {
     "data": {
      "text/plain": [
       "array([14, 15, 16, 17])"
      ]
     },
     "execution_count": 73,
     "metadata": {},
     "output_type": "execute_result"
    }
   ],
   "source": [
    "arr[[1,5,7,2]][0]   #1,5,7,2추출한 행에서 0번 열만 추출"
   ]
  },
  {
   "cell_type": "code",
   "execution_count": 74,
   "id": "computational-computer",
   "metadata": {},
   "outputs": [
    {
     "data": {
      "text/plain": [
       "array([14, 33, 39, 20])"
      ]
     },
     "execution_count": 74,
     "metadata": {},
     "output_type": "execute_result"
    }
   ],
   "source": [
    "arr[[1,5,7,2],[0,3,1,2]]"
   ]
  },
  {
   "cell_type": "code",
   "execution_count": 78,
   "id": "polish-paraguay",
   "metadata": {},
   "outputs": [
    {
     "data": {
      "text/plain": [
       "array([[14, 15, 16, 17],\n",
       "       [30, 31, 32, 33],\n",
       "       [38, 39, 40, 41],\n",
       "       [18, 19, 20, 21]])"
      ]
     },
     "execution_count": 78,
     "metadata": {},
     "output_type": "execute_result"
    }
   ],
   "source": [
    "arr[[1,5,7,2]]"
   ]
  },
  {
   "cell_type": "markdown",
   "id": "collectible-sending",
   "metadata": {},
   "source": [
    "## 원하는 순서대로 원하는 열 가져오고싶을 때"
   ]
  },
  {
   "cell_type": "code",
   "execution_count": 79,
   "id": "latin-devil",
   "metadata": {},
   "outputs": [
    {
     "data": {
      "text/plain": [
       "array([[14, 17, 15, 16],\n",
       "       [30, 33, 31, 32],\n",
       "       [38, 41, 39, 40],\n",
       "       [18, 21, 19, 20]])"
      ]
     },
     "execution_count": 79,
     "metadata": {},
     "output_type": "execute_result"
    }
   ],
   "source": [
    "\n",
    "\n",
    "arr[[1,5,7,2]][:,[0,3,1,2]]     #1,5,7,2행에 대해서 0,3,1,2순서대로 참조"
   ]
  },
  {
   "cell_type": "code",
   "execution_count": 81,
   "id": "democratic-sister",
   "metadata": {},
   "outputs": [
    {
     "data": {
      "text/plain": [
       "array([[ 0,  1,  2,  3,  4],\n",
       "       [ 5,  6,  7,  8,  9],\n",
       "       [10, 11, 12, 13, 14]])"
      ]
     },
     "execution_count": 81,
     "metadata": {},
     "output_type": "execute_result"
    }
   ],
   "source": [
    "arr=np.arange(15).reshape((3,5))\n",
    "arr"
   ]
  },
  {
   "cell_type": "code",
   "execution_count": 82,
   "id": "loving-attitude",
   "metadata": {},
   "outputs": [
    {
     "data": {
      "text/plain": [
       "array([[ 0,  5, 10],\n",
       "       [ 1,  6, 11],\n",
       "       [ 2,  7, 12],\n",
       "       [ 3,  8, 13],\n",
       "       [ 4,  9, 14]])"
      ]
     },
     "execution_count": 82,
     "metadata": {},
     "output_type": "execute_result"
    }
   ],
   "source": [
    "arr.T   #행과 열이 바뀜"
   ]
  },
  {
   "cell_type": "code",
   "execution_count": 84,
   "id": "central-prize",
   "metadata": {},
   "outputs": [
    {
     "data": {
      "text/plain": [
       "(3, 5)"
      ]
     },
     "execution_count": 84,
     "metadata": {},
     "output_type": "execute_result"
    }
   ],
   "source": [
    "#arr.T.T\n",
    "arr.shape"
   ]
  },
  {
   "cell_type": "code",
   "execution_count": 85,
   "id": "productive-worship",
   "metadata": {},
   "outputs": [
    {
     "data": {
      "text/plain": [
       "array([[ 0,  1,  2,  3,  4],\n",
       "       [ 5,  6,  7,  8,  9],\n",
       "       [10, 11, 12, 13, 14]])"
      ]
     },
     "execution_count": 85,
     "metadata": {},
     "output_type": "execute_result"
    }
   ],
   "source": [
    "arr"
   ]
  },
  {
   "cell_type": "code",
   "execution_count": 86,
   "id": "electoral-deployment",
   "metadata": {},
   "outputs": [
    {
     "data": {
      "text/plain": [
       "array([[ 0,  5, 10],\n",
       "       [ 1,  6, 11],\n",
       "       [ 2,  7, 12],\n",
       "       [ 3,  8, 13],\n",
       "       [ 4,  9, 14]])"
      ]
     },
     "execution_count": 86,
     "metadata": {},
     "output_type": "execute_result"
    }
   ],
   "source": [
    "arr.T"
   ]
  },
  {
   "cell_type": "markdown",
   "id": "ready-atlas",
   "metadata": {},
   "source": [
    "## np.dot: 행렬 곱셉 (matrix multiply)"
   ]
  },
  {
   "cell_type": "code",
   "execution_count": 87,
   "id": "romance-setup",
   "metadata": {},
   "outputs": [
    {
     "data": {
      "text/plain": [
       "array([[ 30,  80, 130],\n",
       "       [ 80, 255, 430],\n",
       "       [130, 430, 730]])"
      ]
     },
     "execution_count": 87,
     "metadata": {},
     "output_type": "execute_result"
    }
   ],
   "source": [
    "#3행 5열* 5행 3열=> 3행 5열\n",
    "\n",
    "np.dot(arr,arr.T)"
   ]
  },
  {
   "cell_type": "code",
   "execution_count": null,
   "id": "posted-cooperation",
   "metadata": {},
   "outputs": [],
   "source": []
  },
  {
   "cell_type": "code",
   "execution_count": 91,
   "id": "julian-visiting",
   "metadata": {},
   "outputs": [
    {
     "data": {
      "text/plain": [
       "array([0, 1, 2, 3, 4, 5, 6, 7, 8, 9])"
      ]
     },
     "execution_count": 91,
     "metadata": {},
     "output_type": "execute_result"
    }
   ],
   "source": [
    "arr=np.arange(10)\n",
    "arr\n"
   ]
  },
  {
   "cell_type": "code",
   "execution_count": 92,
   "id": "chemical-shepherd",
   "metadata": {},
   "outputs": [
    {
     "data": {
      "text/plain": [
       "array([0.        , 1.        , 1.41421356, 1.73205081, 2.        ,\n",
       "       2.23606798, 2.44948974, 2.64575131, 2.82842712, 3.        ])"
      ]
     },
     "execution_count": 92,
     "metadata": {},
     "output_type": "execute_result"
    }
   ],
   "source": [
    "np.sqrt(arr)"
   ]
  },
  {
   "cell_type": "code",
   "execution_count": 93,
   "id": "affecting-technique",
   "metadata": {},
   "outputs": [
    {
     "data": {
      "text/plain": [
       "array([1.00000000e+00, 2.71828183e+00, 7.38905610e+00, 2.00855369e+01,\n",
       "       5.45981500e+01, 1.48413159e+02, 4.03428793e+02, 1.09663316e+03,\n",
       "       2.98095799e+03, 8.10308393e+03])"
      ]
     },
     "execution_count": 93,
     "metadata": {},
     "output_type": "execute_result"
    }
   ],
   "source": [
    "np.exp(arr)"
   ]
  },
  {
   "cell_type": "code",
   "execution_count": 97,
   "id": "given-smile",
   "metadata": {},
   "outputs": [],
   "source": [
    "x=np.random.randn(8)\n",
    "y=np.random.randn(8)\n"
   ]
  },
  {
   "cell_type": "code",
   "execution_count": 98,
   "id": "ideal-school",
   "metadata": {},
   "outputs": [
    {
     "data": {
      "text/plain": [
       "array([ 2.16528962,  1.71635059, -0.21951215,  0.55444826,  0.17912455,\n",
       "        0.25472322, -1.41197479,  1.25251844])"
      ]
     },
     "execution_count": 98,
     "metadata": {},
     "output_type": "execute_result"
    }
   ],
   "source": [
    "x"
   ]
  },
  {
   "cell_type": "code",
   "execution_count": 99,
   "id": "south-lending",
   "metadata": {},
   "outputs": [
    {
     "data": {
      "text/plain": [
       "array([ 1.48587389, -0.49810667, -0.21852401,  0.8539466 ,  0.87598097,\n",
       "        1.68877622,  0.59551404,  0.72823817])"
      ]
     },
     "execution_count": 99,
     "metadata": {},
     "output_type": "execute_result"
    }
   ],
   "source": [
    "y"
   ]
  },
  {
   "cell_type": "code",
   "execution_count": 101,
   "id": "superior-spider",
   "metadata": {},
   "outputs": [
    {
     "data": {
      "text/plain": [
       "array([ 2.16528962,  1.71635059, -0.21852401,  0.8539466 ,  0.87598097,\n",
       "        1.68877622,  0.59551404,  1.25251844])"
      ]
     },
     "execution_count": 101,
     "metadata": {},
     "output_type": "execute_result"
    }
   ],
   "source": [
    "#각 배열의 원소중 큰 값을 리턴함\n",
    "\n",
    "np.maximum(x,y)"
   ]
  },
  {
   "cell_type": "code",
   "execution_count": 102,
   "id": "corresponding-empire",
   "metadata": {},
   "outputs": [
    {
     "data": {
      "text/plain": [
       "array([ 1.48587389, -0.49810667, -0.21951215,  0.55444826,  0.17912455,\n",
       "        0.25472322, -1.41197479,  0.72823817])"
      ]
     },
     "execution_count": 102,
     "metadata": {},
     "output_type": "execute_result"
    }
   ],
   "source": [
    "#각 배열의 원소중 최소값을 리턴함\n",
    "\n",
    "np.minimum(x,y)\n"
   ]
  },
  {
   "cell_type": "code",
   "execution_count": 108,
   "id": "floating-disney",
   "metadata": {},
   "outputs": [
    {
     "data": {
      "text/plain": [
       "array([-1.36956932,  2.15382574, -0.65823336,  0.32958814, -6.55534939,\n",
       "        0.48053897,  6.10769921])"
      ]
     },
     "execution_count": 108,
     "metadata": {},
     "output_type": "execute_result"
    }
   ],
   "source": [
    "arr=np.random.randn(7)*5\n",
    "arr"
   ]
  },
  {
   "cell_type": "markdown",
   "id": "shared-aspect",
   "metadata": {},
   "source": [
    "### 정수부분과 실수부분 분리"
   ]
  },
  {
   "cell_type": "code",
   "execution_count": 114,
   "id": "labeled-craps",
   "metadata": {},
   "outputs": [
    {
     "data": {
      "text/plain": [
       "(array([-0.36956932,  0.15382574, -0.65823336,  0.32958814, -0.55534939,\n",
       "         0.48053897,  0.10769921]),\n",
       " array([-1.,  2., -0.,  0., -6.,  0.,  6.]))"
      ]
     },
     "execution_count": 114,
     "metadata": {},
     "output_type": "execute_result"
    }
   ],
   "source": [
    "np.modf(arr)\n",
    "#(arr(),arry()) 튜플"
   ]
  },
  {
   "cell_type": "code",
   "execution_count": 117,
   "id": "confused-virginia",
   "metadata": {},
   "outputs": [],
   "source": [
    "# 정수, 실수 부분 따로 저장\n",
    "remainder,whoe_part=np.modf(arr)"
   ]
  },
  {
   "cell_type": "code",
   "execution_count": 118,
   "id": "coated-seeking",
   "metadata": {},
   "outputs": [
    {
     "data": {
      "text/plain": [
       "array([-0.36956932,  0.15382574, -0.65823336,  0.32958814, -0.55534939,\n",
       "        0.48053897,  0.10769921])"
      ]
     },
     "execution_count": 118,
     "metadata": {},
     "output_type": "execute_result"
    }
   ],
   "source": [
    "remainder"
   ]
  },
  {
   "cell_type": "code",
   "execution_count": 119,
   "id": "unique-sweden",
   "metadata": {},
   "outputs": [
    {
     "data": {
      "text/plain": [
       "array([-1.,  2., -0.,  0., -6.,  0.,  6.])"
      ]
     },
     "execution_count": 119,
     "metadata": {},
     "output_type": "execute_result"
    }
   ],
   "source": [
    "whoe_part"
   ]
  },
  {
   "cell_type": "code",
   "execution_count": 123,
   "id": "clinical-bleeding",
   "metadata": {},
   "outputs": [
    {
     "data": {
      "text/plain": [
       "(1000,)"
      ]
     },
     "execution_count": 123,
     "metadata": {},
     "output_type": "execute_result"
    }
   ],
   "source": [
    "points=np.arange(-5,5,0.01)\n",
    "points.shape"
   ]
  },
  {
   "cell_type": "code",
   "execution_count": null,
   "id": "silver-intent",
   "metadata": {},
   "outputs": [],
   "source": []
  },
  {
   "cell_type": "code",
   "execution_count": 124,
   "id": "protected-balloon",
   "metadata": {},
   "outputs": [],
   "source": [
    "#두 개의 1차원 배열을 입력받아서 가능한 모든 (x,y) 짝을 만들 수 있는 2차원 배열 2개를 리턴\n",
    "\n",
    "xs,ys=np.meshgrid(points,points)"
   ]
  },
  {
   "cell_type": "code",
   "execution_count": 125,
   "id": "indirect-curve",
   "metadata": {},
   "outputs": [
    {
     "data": {
      "text/plain": [
       "array([[-5.  , -4.99, -4.98, ...,  4.97,  4.98,  4.99],\n",
       "       [-5.  , -4.99, -4.98, ...,  4.97,  4.98,  4.99],\n",
       "       [-5.  , -4.99, -4.98, ...,  4.97,  4.98,  4.99],\n",
       "       ...,\n",
       "       [-5.  , -4.99, -4.98, ...,  4.97,  4.98,  4.99],\n",
       "       [-5.  , -4.99, -4.98, ...,  4.97,  4.98,  4.99],\n",
       "       [-5.  , -4.99, -4.98, ...,  4.97,  4.98,  4.99]])"
      ]
     },
     "execution_count": 125,
     "metadata": {},
     "output_type": "execute_result"
    }
   ],
   "source": [
    "xs.shape\n",
    "xs"
   ]
  },
  {
   "cell_type": "code",
   "execution_count": 126,
   "id": "blond-microwave",
   "metadata": {},
   "outputs": [
    {
     "data": {
      "text/plain": [
       "array([[-5.  , -5.  , -5.  , ..., -5.  , -5.  , -5.  ],\n",
       "       [-4.99, -4.99, -4.99, ..., -4.99, -4.99, -4.99],\n",
       "       [-4.98, -4.98, -4.98, ..., -4.98, -4.98, -4.98],\n",
       "       ...,\n",
       "       [ 4.97,  4.97,  4.97, ...,  4.97,  4.97,  4.97],\n",
       "       [ 4.98,  4.98,  4.98, ...,  4.98,  4.98,  4.98],\n",
       "       [ 4.99,  4.99,  4.99, ...,  4.99,  4.99,  4.99]])"
      ]
     },
     "execution_count": 126,
     "metadata": {},
     "output_type": "execute_result"
    }
   ],
   "source": [
    "ys.shape\n",
    "ys"
   ]
  },
  {
   "cell_type": "code",
   "execution_count": 127,
   "id": "naughty-monkey",
   "metadata": {},
   "outputs": [],
   "source": [
    "z=np.sqrt(xs**2+ys**2)"
   ]
  },
  {
   "cell_type": "code",
   "execution_count": 128,
   "id": "compliant-hampton",
   "metadata": {},
   "outputs": [
    {
     "data": {
      "text/plain": [
       "array([[7.07106781, 7.06400028, 7.05693985, ..., 7.04988652, 7.05693985,\n",
       "        7.06400028],\n",
       "       [7.06400028, 7.05692568, 7.04985815, ..., 7.04279774, 7.04985815,\n",
       "        7.05692568],\n",
       "       [7.05693985, 7.04985815, 7.04278354, ..., 7.03571603, 7.04278354,\n",
       "        7.04985815],\n",
       "       ...,\n",
       "       [7.04988652, 7.04279774, 7.03571603, ..., 7.0286414 , 7.03571603,\n",
       "        7.04279774],\n",
       "       [7.05693985, 7.04985815, 7.04278354, ..., 7.03571603, 7.04278354,\n",
       "        7.04985815],\n",
       "       [7.06400028, 7.05692568, 7.04985815, ..., 7.04279774, 7.04985815,\n",
       "        7.05692568]])"
      ]
     },
     "execution_count": 128,
     "metadata": {},
     "output_type": "execute_result"
    }
   ],
   "source": [
    "z"
   ]
  },
  {
   "cell_type": "code",
   "execution_count": null,
   "id": "automotive-patrol",
   "metadata": {},
   "outputs": [],
   "source": [
    "\n",
    "\n",
    "\n",
    "\n",
    "\n"
   ]
  },
  {
   "cell_type": "code",
   "execution_count": null,
   "id": "hybrid-disco",
   "metadata": {},
   "outputs": [],
   "source": []
  },
  {
   "cell_type": "code",
   "execution_count": null,
   "id": "artistic-sauce",
   "metadata": {},
   "outputs": [],
   "source": []
  },
  {
   "cell_type": "code",
   "execution_count": 132,
   "id": "touched-planet",
   "metadata": {},
   "outputs": [
    {
     "data": {
      "text/plain": [
       "array([0, 1, 2])"
      ]
     },
     "execution_count": 132,
     "metadata": {},
     "output_type": "execute_result"
    }
   ],
   "source": [
    "x=np.arange(3)\n",
    "x"
   ]
  },
  {
   "cell_type": "code",
   "execution_count": 133,
   "id": "internal-argentina",
   "metadata": {},
   "outputs": [
    {
     "data": {
      "text/plain": [
       "array([0, 1, 2, 3, 4])"
      ]
     },
     "execution_count": 133,
     "metadata": {},
     "output_type": "execute_result"
    }
   ],
   "source": [
    "y=np.arange(5)\n",
    "y"
   ]
  },
  {
   "cell_type": "code",
   "execution_count": 134,
   "id": "prompt-examination",
   "metadata": {},
   "outputs": [],
   "source": [
    "xx,yy = np.meshgrid(x,y)"
   ]
  },
  {
   "cell_type": "code",
   "execution_count": 135,
   "id": "annoying-elements",
   "metadata": {},
   "outputs": [
    {
     "data": {
      "text/plain": [
       "array([[0, 1, 2],\n",
       "       [0, 1, 2],\n",
       "       [0, 1, 2],\n",
       "       [0, 1, 2],\n",
       "       [0, 1, 2]])"
      ]
     },
     "execution_count": 135,
     "metadata": {},
     "output_type": "execute_result"
    }
   ],
   "source": [
    "xx"
   ]
  },
  {
   "cell_type": "code",
   "execution_count": 136,
   "id": "vocational-glossary",
   "metadata": {},
   "outputs": [
    {
     "data": {
      "text/plain": [
       "array([[0, 0, 0],\n",
       "       [1, 1, 1],\n",
       "       [2, 2, 2],\n",
       "       [3, 3, 3],\n",
       "       [4, 4, 4]])"
      ]
     },
     "execution_count": 136,
     "metadata": {},
     "output_type": "execute_result"
    }
   ],
   "source": [
    "yy"
   ]
  },
  {
   "cell_type": "code",
   "execution_count": 140,
   "id": "based-fiction",
   "metadata": {},
   "outputs": [
    {
     "data": {
      "text/plain": [
       "[[(0, 0), (1, 0), (2, 0)],\n",
       " [(0, 1), (1, 1), (2, 1)],\n",
       " [(0, 2), (1, 2), (2, 2)],\n",
       " [(0, 3), (1, 3), (2, 3)],\n",
       " [(0, 4), (1, 4), (2, 4)]]"
      ]
     },
     "execution_count": 140,
     "metadata": {},
     "output_type": "execute_result"
    }
   ],
   "source": [
    "#사각형의 영역\n",
    "\n",
    "[list(zip(x,y))for x,y in zip(xx,yy)]  #요소끼리 연결되어서 list값으로 들어감"
   ]
  },
  {
   "cell_type": "code",
   "execution_count": null,
   "id": "unusual-citizen",
   "metadata": {},
   "outputs": [],
   "source": []
  },
  {
   "cell_type": "code",
   "execution_count": null,
   "id": "increasing-gazette",
   "metadata": {},
   "outputs": [],
   "source": [
    "#"
   ]
  },
  {
   "cell_type": "code",
   "execution_count": 149,
   "id": "recognized-portal",
   "metadata": {},
   "outputs": [],
   "source": [
    "xarr=np.array([1.1,1.2,1.3,1.4,1.5])\n",
    "yarr=np.array([2.1,2.2,2.3,2.4,2.5])"
   ]
  },
  {
   "cell_type": "code",
   "execution_count": 142,
   "id": "generic-longitude",
   "metadata": {},
   "outputs": [
    {
     "data": {
      "text/plain": [
       "array([1.1, 1.2, 1.3, 1.4, 1.5])"
      ]
     },
     "execution_count": 142,
     "metadata": {},
     "output_type": "execute_result"
    }
   ],
   "source": [
    "cond=np.array([True,False,True,True,False])"
   ]
  },
  {
   "cell_type": "code",
   "execution_count": 145,
   "id": "limited-apple",
   "metadata": {},
   "outputs": [
    {
     "data": {
      "text/plain": [
       "[(1.1, 2.1, True),\n",
       " (1.2, 2.2, False),\n",
       " (1.3, 2.3, False),\n",
       " (1.4, 2.4, True),\n",
       " (1.5, 2.5, False)]"
      ]
     },
     "execution_count": 145,
     "metadata": {},
     "output_type": "execute_result"
    }
   ],
   "source": [
    "list(zip(xarr,yarr,cond))  #튜플로 연결되어있음"
   ]
  },
  {
   "cell_type": "markdown",
   "id": "billion-education",
   "metadata": {},
   "source": [
    "### zip함수 활용! 중요!!!"
   ]
  },
  {
   "cell_type": "code",
   "execution_count": 144,
   "id": "fatal-howard",
   "metadata": {},
   "outputs": [
    {
     "data": {
      "text/plain": [
       "[1.1, 2.2, 2.3, 1.4, 2.5]"
      ]
     },
     "execution_count": 144,
     "metadata": {},
     "output_type": "execute_result"
    }
   ],
   "source": [
    "#만약에 c값이 참이면 x를, 거짓이면 y를 취해라\n",
    "[(x if c else y) for x,y,c in zip(xarr,yarr,cond)]"
   ]
  },
  {
   "cell_type": "markdown",
   "id": "cooked-springfield",
   "metadata": {},
   "source": [
    "### where 함수: 조건을 만족하는 값 참조"
   ]
  },
  {
   "cell_type": "code",
   "execution_count": 146,
   "id": "proprietary-drunk",
   "metadata": {},
   "outputs": [
    {
     "data": {
      "text/plain": [
       "array([ True, False, False,  True, False, False])"
      ]
     },
     "execution_count": 146,
     "metadata": {},
     "output_type": "execute_result"
    }
   ],
   "source": [
    "cond"
   ]
  },
  {
   "cell_type": "code",
   "execution_count": 150,
   "id": "hungry-belgium",
   "metadata": {},
   "outputs": [
    {
     "ename": "ValueError",
     "evalue": "operands could not be broadcast together with shapes (6,) (5,) (5,) ",
     "output_type": "error",
     "traceback": [
      "\u001b[0;31m---------------------------------------------------------------------------\u001b[0m",
      "\u001b[0;31mValueError\u001b[0m                                Traceback (most recent call last)",
      "\u001b[0;32m<ipython-input-150-afd27124d9c5>\u001b[0m in \u001b[0;36m<module>\u001b[0;34m\u001b[0m\n\u001b[1;32m      1\u001b[0m \u001b[0;31m#cond(조건)가 참이면 xarr, 거짓이면 yarr 취함\u001b[0m\u001b[0;34m\u001b[0m\u001b[0;34m\u001b[0m\u001b[0;34m\u001b[0m\u001b[0m\n\u001b[0;32m----> 2\u001b[0;31m \u001b[0mnp\u001b[0m\u001b[0;34m.\u001b[0m\u001b[0mwhere\u001b[0m\u001b[0;34m(\u001b[0m\u001b[0mcond\u001b[0m\u001b[0;34m,\u001b[0m \u001b[0mxarr\u001b[0m\u001b[0;34m,\u001b[0m \u001b[0myarr\u001b[0m\u001b[0;34m)\u001b[0m\u001b[0;34m\u001b[0m\u001b[0;34m\u001b[0m\u001b[0m\n\u001b[0m",
      "\u001b[0;32m<__array_function__ internals>\u001b[0m in \u001b[0;36mwhere\u001b[0;34m(*args, **kwargs)\u001b[0m\n",
      "\u001b[0;31mValueError\u001b[0m: operands could not be broadcast together with shapes (6,) (5,) (5,) "
     ]
    }
   ],
   "source": [
    "#cond(조건)가 참이면 xarr, 거짓이면 yarr 취함\n",
    "np.where(cond, xarr, yarr)  "
   ]
  },
  {
   "cell_type": "code",
   "execution_count": 151,
   "id": "early-depression",
   "metadata": {},
   "outputs": [],
   "source": [
    "#4행 4열의 행렬을 randn 함수를 수행한 값으로 초기화하여 정의\n",
    "#행렬의 요소값 중에서 1보다 크면 1을 출력, 작으면 0을 출력\n"
   ]
  },
  {
   "cell_type": "code",
   "execution_count": 156,
   "id": "assured-integral",
   "metadata": {},
   "outputs": [
    {
     "data": {
      "text/plain": [
       "array([[ 1.76070414,  0.21813537, -0.54657925, -0.18889241],\n",
       "       [-0.49005358, -1.07329382,  0.07872711,  0.07469735],\n",
       "       [ 1.03282436,  0.72010218,  0.42288571, -1.12070217],\n",
       "       [-1.09677922, -1.18865641,  1.26882248, -1.83393508]])"
      ]
     },
     "execution_count": 156,
     "metadata": {},
     "output_type": "execute_result"
    }
   ],
   "source": [
    "arr=np.random.randn(4,4)\n",
    "arr"
   ]
  },
  {
   "cell_type": "code",
   "execution_count": 157,
   "id": "blessed-sandwich",
   "metadata": {},
   "outputs": [
    {
     "data": {
      "text/plain": [
       "array([[1, 0, 0, 0],\n",
       "       [0, 0, 0, 0],\n",
       "       [1, 0, 0, 0],\n",
       "       [0, 0, 1, 0]])"
      ]
     },
     "execution_count": 157,
     "metadata": {},
     "output_type": "execute_result"
    }
   ],
   "source": [
    "np.where(arr>1,1,0)"
   ]
  },
  {
   "cell_type": "code",
   "execution_count": 158,
   "id": "vulnerable-frederick",
   "metadata": {},
   "outputs": [],
   "source": [
    "#4행 4열의 행렬을 randn 함수를 수행한 값으로 초기화하여 정의\n",
    "#행렬의 요소값 중에서 1보다 크면 1을 출력, 작으면 원래 값을 그대로 출력"
   ]
  },
  {
   "cell_type": "code",
   "execution_count": 159,
   "id": "british-sodium",
   "metadata": {},
   "outputs": [
    {
     "data": {
      "text/plain": [
       "array([[ 0.6036432 , -0.19469776, -0.46886142,  0.10082121],\n",
       "       [ 1.        , -1.72703948, -1.21696275, -0.35657343],\n",
       "       [ 1.        , -1.40964563, -0.88703191, -0.23283771],\n",
       "       [-0.57456263,  1.        ,  0.2202894 , -0.67605197]])"
      ]
     },
     "execution_count": 159,
     "metadata": {},
     "output_type": "execute_result"
    }
   ],
   "source": [
    "arr=np.random.randn(4,4)\n",
    "arr\n",
    "np.where(arr>1,1,arr)"
   ]
  },
  {
   "cell_type": "markdown",
   "id": "distinct-prime",
   "metadata": {},
   "source": [
    "## 수학 관련 함수"
   ]
  },
  {
   "cell_type": "code",
   "execution_count": 160,
   "id": "dimensional-cookie",
   "metadata": {},
   "outputs": [],
   "source": [
    "arr=np.random.randn(5,4)"
   ]
  },
  {
   "cell_type": "code",
   "execution_count": 161,
   "id": "static-taiwan",
   "metadata": {},
   "outputs": [
    {
     "data": {
      "text/plain": [
       "array([[ 0.67186635,  1.07781057,  1.28317061,  1.40074706],\n",
       "       [ 1.5715664 ,  0.37743918, -0.80479329,  1.86316101],\n",
       "       [ 1.19717034,  2.48079359,  0.63008375, -0.05862688],\n",
       "       [ 0.12641317, -1.1279086 , -0.32803442,  1.00727928],\n",
       "       [-1.01465043,  0.12563125,  0.46580842, -0.23001999]])"
      ]
     },
     "execution_count": 161,
     "metadata": {},
     "output_type": "execute_result"
    }
   ],
   "source": [
    "arr"
   ]
  },
  {
   "cell_type": "code",
   "execution_count": 163,
   "id": "growing-disco",
   "metadata": {},
   "outputs": [
    {
     "data": {
      "text/plain": [
       "0.5357453693348677"
      ]
     },
     "execution_count": 163,
     "metadata": {},
     "output_type": "execute_result"
    }
   ],
   "source": [
    "arr.mean()\n",
    "#or\n",
    "np.mean(arr)"
   ]
  },
  {
   "cell_type": "code",
   "execution_count": 164,
   "id": "national-minimum",
   "metadata": {},
   "outputs": [
    {
     "data": {
      "text/plain": [
       "10.714907386697353"
      ]
     },
     "execution_count": 164,
     "metadata": {},
     "output_type": "execute_result"
    }
   ],
   "source": [
    "arr.sum()"
   ]
  },
  {
   "cell_type": "code",
   "execution_count": 166,
   "id": "polyphonic-novel",
   "metadata": {},
   "outputs": [
    {
     "data": {
      "text/plain": [
       "array([ 1.10839865,  0.75184333,  1.0623552 , -0.08056264, -0.16330768])"
      ]
     },
     "execution_count": 166,
     "metadata": {},
     "output_type": "execute_result"
    }
   ],
   "source": [
    "#arr의 column에서 평균을 구해라\n",
    "arr.mean(axis=1)"
   ]
  },
  {
   "cell_type": "code",
   "execution_count": 167,
   "id": "latin-flooring",
   "metadata": {},
   "outputs": [
    {
     "data": {
      "text/plain": [
       "array([0.51047317, 0.5867532 , 0.24924702, 0.7965081 ])"
      ]
     },
     "execution_count": 167,
     "metadata": {},
     "output_type": "execute_result"
    }
   ],
   "source": [
    "#arr의 row에서 평균을 구해라\n",
    "arr.mean(axis=0)"
   ]
  },
  {
   "cell_type": "code",
   "execution_count": 169,
   "id": "hollow-merchandise",
   "metadata": {},
   "outputs": [
    {
     "data": {
      "text/plain": [
       "array([ 4.4335946 ,  3.0073733 ,  4.2494208 , -0.32225057, -0.65323074])"
      ]
     },
     "execution_count": 169,
     "metadata": {},
     "output_type": "execute_result"
    }
   ],
   "source": [
    "arr.sum(axis=1) #열 방향으로 이동해가면서 요소값의 합"
   ]
  },
  {
   "cell_type": "code",
   "execution_count": 170,
   "id": "hairy-philosophy",
   "metadata": {},
   "outputs": [
    {
     "data": {
      "text/plain": [
       "array([2.55236583, 2.933766  , 1.24623508, 3.98254048])"
      ]
     },
     "execution_count": 170,
     "metadata": {},
     "output_type": "execute_result"
    }
   ],
   "source": [
    "arr.sum(axis=0)#행 방향으로 이동해가면서 요소값의 합"
   ]
  },
  {
   "cell_type": "code",
   "execution_count": 172,
   "id": "continued-election",
   "metadata": {},
   "outputs": [],
   "source": [
    "### 누적합: cumsum"
   ]
  },
  {
   "cell_type": "code",
   "execution_count": 176,
   "id": "athletic-houston",
   "metadata": {},
   "outputs": [
    {
     "data": {
      "text/plain": [
       "array([1, 2, 3, 4, 5, 6, 7])"
      ]
     },
     "execution_count": 176,
     "metadata": {},
     "output_type": "execute_result"
    }
   ],
   "source": [
    "arr=np.arange(1,8)\n",
    "arr"
   ]
  },
  {
   "cell_type": "code",
   "execution_count": 177,
   "id": "civic-headquarters",
   "metadata": {},
   "outputs": [
    {
     "data": {
      "text/plain": [
       "array([ 1,  3,  6, 10, 15, 21, 28])"
      ]
     },
     "execution_count": 177,
     "metadata": {},
     "output_type": "execute_result"
    }
   ],
   "source": [
    "\n",
    "arr.cumsum() #누적합"
   ]
  },
  {
   "cell_type": "code",
   "execution_count": 178,
   "id": "increasing-enhancement",
   "metadata": {},
   "outputs": [
    {
     "data": {
      "text/plain": [
       "array([   1,    2,    6,   24,  120,  720, 5040])"
      ]
     },
     "execution_count": 178,
     "metadata": {},
     "output_type": "execute_result"
    }
   ],
   "source": [
    "arr.cumprod() #누적곱"
   ]
  },
  {
   "cell_type": "code",
   "execution_count": 179,
   "id": "compatible-patent",
   "metadata": {},
   "outputs": [
    {
     "data": {
      "text/plain": [
       "array([[1, 2, 3],\n",
       "       [4, 5, 6],\n",
       "       [7, 8, 9]])"
      ]
     },
     "execution_count": 179,
     "metadata": {},
     "output_type": "execute_result"
    }
   ],
   "source": [
    "arr=np.arange(1,10).reshape(3,3)\n",
    "arr"
   ]
  },
  {
   "cell_type": "code",
   "execution_count": 180,
   "id": "female-treatment",
   "metadata": {},
   "outputs": [
    {
     "data": {
      "text/plain": [
       "array([ 1,  3,  6, 10, 15, 21, 28, 36, 45])"
      ]
     },
     "execution_count": 180,
     "metadata": {},
     "output_type": "execute_result"
    }
   ],
   "source": [
    "arr.cumsum()"
   ]
  },
  {
   "cell_type": "code",
   "execution_count": 183,
   "id": "latin-fence",
   "metadata": {},
   "outputs": [
    {
     "data": {
      "text/plain": [
       "array([[ 1,  2,  3],\n",
       "       [ 5,  7,  9],\n",
       "       [12, 15, 18]])"
      ]
     },
     "execution_count": 183,
     "metadata": {},
     "output_type": "execute_result"
    }
   ],
   "source": [
    "arr.cumsum(axis=0)  #행방향으로 이동(위->아래)"
   ]
  },
  {
   "cell_type": "code",
   "execution_count": 184,
   "id": "literary-dimension",
   "metadata": {},
   "outputs": [
    {
     "name": "stdout",
     "output_type": "stream",
     "text": [
      "[ 1  3  6 10 15 21 28 36 45]\n",
      "==================================================\n",
      "[[ 1  2  3]\n",
      " [ 5  7  9]\n",
      " [12 15 18]]\n"
     ]
    }
   ],
   "source": [
    "print(arr.cumsum())   \n",
    "print('='*50)\n",
    "print(arr.cumsum(axis=0))   #행방향으로 이동(위->아래)"
   ]
  },
  {
   "cell_type": "code",
   "execution_count": 185,
   "id": "ignored-traveler",
   "metadata": {},
   "outputs": [
    {
     "name": "stdout",
     "output_type": "stream",
     "text": [
      "[ 1  3  6 10 15 21 28 36 45]\n",
      "==================================================\n",
      "[[ 1  3  6]\n",
      " [ 4  9 15]\n",
      " [ 7 15 24]]\n"
     ]
    }
   ],
   "source": [
    "print(arr.cumsum())\n",
    "print('='*50)\n",
    "print(arr.cumsum(axis=1))   #열방향으로 이동(좌->우)"
   ]
  },
  {
   "cell_type": "code",
   "execution_count": null,
   "id": "acute-virtue",
   "metadata": {},
   "outputs": [],
   "source": []
  },
  {
   "cell_type": "code",
   "execution_count": null,
   "id": "roman-bobby",
   "metadata": {},
   "outputs": [],
   "source": []
  },
  {
   "cell_type": "code",
   "execution_count": 188,
   "id": "exact-nudist",
   "metadata": {},
   "outputs": [
    {
     "data": {
      "text/plain": [
       "array([ 0.45758673, -1.32893373, -1.04334458, -1.44526974,  0.85403795,\n",
       "       -0.51773924, -0.98878888, -0.72446848,  0.47798207, -0.62032926,\n",
       "        0.7322199 , -1.20656811, -0.54937349, -0.40326801, -1.31870996,\n",
       "       -0.08839489, -1.89542655, -0.93150835,  0.3711876 ,  1.59846659,\n",
       "        0.99922136,  0.30482273, -1.6019306 ,  0.02130543,  0.1970968 ,\n",
       "        0.24389494, -0.34460101, -0.56570721, -0.43219044,  1.05768588,\n",
       "       -0.76778586, -1.14042566, -1.53425472, -0.22014237, -0.19401372,\n",
       "       -0.95018321,  1.43857277,  1.35665503,  2.02342422, -0.61244592,\n",
       "        0.05382152,  0.30471334,  0.48443982,  0.80708274, -0.31816979,\n",
       "       -0.65645097,  1.89873597, -0.59708363,  0.38272202, -0.03519296,\n",
       "       -0.06821433, -0.68565313, -0.75455114, -0.07793838, -1.39359222,\n",
       "       -0.14576401,  0.28633148,  0.05784279, -0.09111368,  0.2599203 ,\n",
       "        0.38432137, -1.44356438,  1.03307887,  0.14420311,  1.69004341,\n",
       "       -1.26116027, -0.44478444, -0.6475858 ,  0.74911248,  0.71028326,\n",
       "       -1.60425502,  0.78182038, -0.53731241,  0.0286419 , -0.20910495,\n",
       "       -1.13922075, -0.199234  ,  0.7643592 ,  0.6940034 , -0.09751963,\n",
       "        2.11222307,  0.089929  , -0.16826007, -1.27748675, -0.03725723,\n",
       "        1.02543287, -0.41039464, -0.31534302, -0.13975885, -0.29458733,\n",
       "       -0.75619858, -0.10170533, -1.79368536,  2.41477707,  1.76514015,\n",
       "        0.72773392, -0.08747477, -0.59265335,  1.2232236 , -0.27787913])"
      ]
     },
     "execution_count": 188,
     "metadata": {},
     "output_type": "execute_result"
    }
   ],
   "source": [
    "arr=np.random.randn(100)\n",
    "arr"
   ]
  },
  {
   "cell_type": "code",
   "execution_count": 189,
   "id": "abandoned-serial",
   "metadata": {},
   "outputs": [
    {
     "data": {
      "text/plain": [
       "-0.070778572496497"
      ]
     },
     "execution_count": 189,
     "metadata": {},
     "output_type": "execute_result"
    }
   ],
   "source": [
    "arr.mean()"
   ]
  },
  {
   "cell_type": "code",
   "execution_count": 191,
   "id": "careful-subscription",
   "metadata": {},
   "outputs": [
    {
     "data": {
      "text/plain": [
       "0.9229201016015727"
      ]
     },
     "execution_count": 191,
     "metadata": {},
     "output_type": "execute_result"
    }
   ],
   "source": [
    "arr.std()   #표준편차 "
   ]
  },
  {
   "cell_type": "code",
   "execution_count": 199,
   "id": "empirical-diversity",
   "metadata": {},
   "outputs": [
    {
     "ename": "AttributeError",
     "evalue": "'list' object has no attribute 'sum'",
     "output_type": "error",
     "traceback": [
      "\u001b[0;31m---------------------------------------------------------------------------\u001b[0m",
      "\u001b[0;31mAttributeError\u001b[0m                            Traceback (most recent call last)",
      "\u001b[0;32m<ipython-input-199-81d816fa53f5>\u001b[0m in \u001b[0;36m<module>\u001b[0;34m\u001b[0m\n\u001b[1;32m      2\u001b[0m \u001b[0;31m#arr 최대값/최소값\u001b[0m\u001b[0;34m\u001b[0m\u001b[0;34m\u001b[0m\u001b[0;34m\u001b[0m\u001b[0m\n\u001b[1;32m      3\u001b[0m \u001b[0;34m\u001b[0m\u001b[0m\n\u001b[0;32m----> 4\u001b[0;31m \u001b[0;34m[\u001b[0m\u001b[0marr\u001b[0m\u001b[0;34m>\u001b[0m\u001b[0;36m0\u001b[0m\u001b[0;34m]\u001b[0m\u001b[0;34m.\u001b[0m\u001b[0msum\u001b[0m\u001b[0;34m(\u001b[0m\u001b[0;34m)\u001b[0m\u001b[0;34m\u001b[0m\u001b[0;34m\u001b[0m\u001b[0m\n\u001b[0m",
      "\u001b[0;31mAttributeError\u001b[0m: 'list' object has no attribute 'sum'"
     ]
    }
   ],
   "source": [
    "#arr에서 양수의 합\n",
    "#arr 최대값/최소값\n",
    "\n",
    "[arr>0].sum()   #양수의 개수\n",
    "\n"
   ]
  },
  {
   "cell_type": "code",
   "execution_count": 201,
   "id": "generous-colonial",
   "metadata": {},
   "outputs": [
    {
     "data": {
      "text/plain": [
       "33.00809704643559"
      ]
     },
     "execution_count": 201,
     "metadata": {},
     "output_type": "execute_result"
    }
   ],
   "source": [
    "arr[arr>0].sum() #양수의 합"
   ]
  },
  {
   "cell_type": "code",
   "execution_count": 202,
   "id": "critical-interest",
   "metadata": {},
   "outputs": [
    {
     "data": {
      "text/plain": [
       "2.4147770732723393"
      ]
     },
     "execution_count": 202,
     "metadata": {},
     "output_type": "execute_result"
    }
   ],
   "source": [
    "arr.max()"
   ]
  },
  {
   "cell_type": "code",
   "execution_count": 203,
   "id": "ruled-separate",
   "metadata": {},
   "outputs": [
    {
     "data": {
      "text/plain": [
       "-1.895426554576816"
      ]
     },
     "execution_count": 203,
     "metadata": {},
     "output_type": "execute_result"
    }
   ],
   "source": [
    "arr.min()"
   ]
  },
  {
   "cell_type": "code",
   "execution_count": 204,
   "id": "analyzed-dayton",
   "metadata": {},
   "outputs": [
    {
     "data": {
      "text/plain": [
       "array([ 0.45758673, -1.32893373, -1.04334458, -1.44526974,  0.85403795,\n",
       "       -0.51773924, -0.98878888, -0.72446848,  0.47798207, -0.62032926,\n",
       "        0.7322199 , -1.20656811, -0.54937349, -0.40326801, -1.31870996,\n",
       "       -0.08839489, -1.89542655, -0.93150835,  0.3711876 ,  1.59846659,\n",
       "        0.99922136,  0.30482273, -1.6019306 ,  0.02130543,  0.1970968 ,\n",
       "        0.24389494, -0.34460101, -0.56570721, -0.43219044,  1.05768588,\n",
       "       -0.76778586, -1.14042566, -1.53425472, -0.22014237, -0.19401372,\n",
       "       -0.95018321,  1.43857277,  1.35665503,  2.02342422, -0.61244592,\n",
       "        0.05382152,  0.30471334,  0.48443982,  0.80708274, -0.31816979,\n",
       "       -0.65645097,  1.89873597, -0.59708363,  0.38272202, -0.03519296,\n",
       "       -0.06821433, -0.68565313, -0.75455114, -0.07793838, -1.39359222,\n",
       "       -0.14576401,  0.28633148,  0.05784279, -0.09111368,  0.2599203 ,\n",
       "        0.38432137, -1.44356438,  1.03307887,  0.14420311,  1.69004341,\n",
       "       -1.26116027, -0.44478444, -0.6475858 ,  0.74911248,  0.71028326,\n",
       "       -1.60425502,  0.78182038, -0.53731241,  0.0286419 , -0.20910495,\n",
       "       -1.13922075, -0.199234  ,  0.7643592 ,  0.6940034 , -0.09751963,\n",
       "        2.11222307,  0.089929  , -0.16826007, -1.27748675, -0.03725723,\n",
       "        1.02543287, -0.41039464, -0.31534302, -0.13975885, -0.29458733,\n",
       "       -0.75619858, -0.10170533, -1.79368536,  2.41477707,  1.76514015,\n",
       "        0.72773392, -0.08747477, -0.59265335,  1.2232236 , -0.27787913])"
      ]
     },
     "execution_count": 204,
     "metadata": {},
     "output_type": "execute_result"
    }
   ],
   "source": [
    "arr"
   ]
  },
  {
   "cell_type": "code",
   "execution_count": 208,
   "id": "incorporated-radiation",
   "metadata": {},
   "outputs": [
    {
     "data": {
      "text/plain": [
       "array([ 1, -1, -1, -1,  1, -1, -1, -1,  1, -1,  1, -1, -1, -1, -1, -1, -1,\n",
       "       -1,  1,  1,  1,  1, -1,  1,  1,  1, -1, -1, -1,  1, -1, -1, -1, -1,\n",
       "       -1, -1,  1,  1,  1, -1,  1,  1,  1,  1, -1, -1,  1, -1,  1, -1, -1,\n",
       "       -1, -1, -1, -1, -1,  1,  1, -1,  1,  1, -1,  1,  1,  1, -1, -1, -1,\n",
       "        1,  1, -1,  1, -1,  1, -1, -1, -1,  1,  1, -1,  1,  1, -1, -1, -1,\n",
       "        1, -1, -1, -1, -1, -1, -1, -1,  1,  1,  1, -1, -1,  1, -1])"
      ]
     },
     "execution_count": 208,
     "metadata": {},
     "output_type": "execute_result"
    }
   ],
   "source": [
    "#arr에서 양수는 모두 1로 음수는 모두 -1로 치환하시오\n",
    "\n",
    "arr=np.where(arr>0,1,-1)\n",
    "arr"
   ]
  },
  {
   "cell_type": "markdown",
   "id": "optical-mixture",
   "metadata": {},
   "source": [
    "### any(): 어느 하나로도 True가 있으면 True."
   ]
  },
  {
   "cell_type": "code",
   "execution_count": 210,
   "id": "fundamental-microwave",
   "metadata": {},
   "outputs": [],
   "source": [
    "bools=np.array([False,False,True,False])"
   ]
  },
  {
   "cell_type": "code",
   "execution_count": 211,
   "id": "chicken-player",
   "metadata": {},
   "outputs": [
    {
     "data": {
      "text/plain": [
       "True"
      ]
     },
     "execution_count": 211,
     "metadata": {},
     "output_type": "execute_result"
    }
   ],
   "source": [
    "bools.any()"
   ]
  },
  {
   "cell_type": "markdown",
   "id": "regulation-interim",
   "metadata": {},
   "source": [
    "### all(): 모든 값이 True가 있으면 True가 출력"
   ]
  },
  {
   "cell_type": "code",
   "execution_count": 212,
   "id": "fitted-headset",
   "metadata": {},
   "outputs": [
    {
     "data": {
      "text/plain": [
       "False"
      ]
     },
     "execution_count": 212,
     "metadata": {},
     "output_type": "execute_result"
    }
   ],
   "source": [
    "bools.all()"
   ]
  },
  {
   "cell_type": "code",
   "execution_count": null,
   "id": "involved-distributor",
   "metadata": {},
   "outputs": [],
   "source": []
  },
  {
   "cell_type": "code",
   "execution_count": null,
   "id": "stupid-brain",
   "metadata": {},
   "outputs": [],
   "source": []
  },
  {
   "cell_type": "markdown",
   "id": "bottom-charleston",
   "metadata": {},
   "source": [
    "## 정렬 기능"
   ]
  },
  {
   "cell_type": "code",
   "execution_count": 214,
   "id": "hourly-species",
   "metadata": {},
   "outputs": [
    {
     "data": {
      "text/plain": [
       "array([-1.32261891,  0.29007556, -1.78502309, -0.1052648 , -0.68672206,\n",
       "       -1.42036301])"
      ]
     },
     "execution_count": 214,
     "metadata": {},
     "output_type": "execute_result"
    }
   ],
   "source": [
    "arr=np.random.randn(6)\n",
    "arr"
   ]
  },
  {
   "cell_type": "code",
   "execution_count": 215,
   "id": "informal-chorus",
   "metadata": {},
   "outputs": [],
   "source": [
    "arr.sort()"
   ]
  },
  {
   "cell_type": "code",
   "execution_count": 216,
   "id": "difficult-karaoke",
   "metadata": {},
   "outputs": [
    {
     "data": {
      "text/plain": [
       "array([-1.78502309, -1.42036301, -1.32261891, -0.68672206, -0.1052648 ,\n",
       "        0.29007556])"
      ]
     },
     "execution_count": 216,
     "metadata": {},
     "output_type": "execute_result"
    }
   ],
   "source": [
    "arr"
   ]
  },
  {
   "cell_type": "code",
   "execution_count": 223,
   "id": "fifth-protocol",
   "metadata": {},
   "outputs": [
    {
     "data": {
      "text/plain": [
       "array([[-1.50929809e+00, -6.97808161e-01,  3.37235053e-01],\n",
       "       [ 8.30556544e-01,  4.38222512e-01, -1.67720530e+00],\n",
       "       [ 1.22300148e+00,  2.05958018e+00, -1.62719488e-01],\n",
       "       [ 1.57852817e-03, -5.64864575e-01, -5.63542104e-01],\n",
       "       [ 7.94473600e-01, -3.10792460e-01,  3.62760050e-01]])"
      ]
     },
     "execution_count": 223,
     "metadata": {},
     "output_type": "execute_result"
    }
   ],
   "source": [
    "arr=np.random.randn(5,3)\n",
    "arr"
   ]
  },
  {
   "cell_type": "code",
   "execution_count": 219,
   "id": "artificial-daily",
   "metadata": {},
   "outputs": [],
   "source": [
    "arr.sort()  #오름차순 , 열방향으로 정렬(디폴트)"
   ]
  },
  {
   "cell_type": "code",
   "execution_count": 220,
   "id": "temporal-child",
   "metadata": {},
   "outputs": [
    {
     "data": {
      "text/plain": [
       "array([[ 0.48792207,  0.8054453 ,  0.85571339],\n",
       "       [-1.28036367,  1.1080788 ,  1.17620971],\n",
       "       [-0.96862533,  0.25700475,  0.79911328],\n",
       "       [-0.84066784, -0.6667371 ,  2.03109699],\n",
       "       [-2.10317534, -0.5930913 ,  1.94321872]])"
      ]
     },
     "execution_count": 220,
     "metadata": {},
     "output_type": "execute_result"
    }
   ],
   "source": [
    "arr"
   ]
  },
  {
   "cell_type": "code",
   "execution_count": 225,
   "id": "comparative-variable",
   "metadata": {},
   "outputs": [],
   "source": [
    "arr.sort(axis=0)   #오름차순, 행방향 정렬"
   ]
  },
  {
   "cell_type": "code",
   "execution_count": 226,
   "id": "unavailable-madness",
   "metadata": {},
   "outputs": [
    {
     "data": {
      "text/plain": [
       "array([[-1.50929809e+00, -6.97808161e-01, -1.67720530e+00],\n",
       "       [ 1.57852817e-03, -5.64864575e-01, -5.63542104e-01],\n",
       "       [ 7.94473600e-01, -3.10792460e-01, -1.62719488e-01],\n",
       "       [ 8.30556544e-01,  4.38222512e-01,  3.37235053e-01],\n",
       "       [ 1.22300148e+00,  2.05958018e+00,  3.62760050e-01]])"
      ]
     },
     "execution_count": 226,
     "metadata": {},
     "output_type": "execute_result"
    }
   ],
   "source": [
    "arr"
   ]
  },
  {
   "cell_type": "markdown",
   "id": "deluxe-audit",
   "metadata": {},
   "source": [
    "### numpy는 내림차순 기능 정의된 게 따로 없음; 오름차순 정렬 결과를 뒤에서부터 참조"
   ]
  },
  {
   "cell_type": "code",
   "execution_count": 227,
   "id": "loving-snowboard",
   "metadata": {},
   "outputs": [],
   "source": [
    "arr=np.array([4,1,7,5,9])"
   ]
  },
  {
   "cell_type": "code",
   "execution_count": 229,
   "id": "unusual-artwork",
   "metadata": {},
   "outputs": [],
   "source": [
    "np.sort(arr)\n",
    "#or\n",
    "arr.sort()"
   ]
  },
  {
   "cell_type": "code",
   "execution_count": 230,
   "id": "thermal-ecuador",
   "metadata": {},
   "outputs": [
    {
     "data": {
      "text/plain": [
       "array([9, 7, 5, 4, 1])"
      ]
     },
     "execution_count": 230,
     "metadata": {},
     "output_type": "execute_result"
    }
   ],
   "source": [
    "#내림차순 정렬\n",
    "arr[::-1]"
   ]
  },
  {
   "cell_type": "markdown",
   "id": "willing-carroll",
   "metadata": {},
   "source": [
    "### unique(): 유일한 값만 추출\n"
   ]
  },
  {
   "cell_type": "code",
   "execution_count": 231,
   "id": "headed-fetish",
   "metadata": {},
   "outputs": [
    {
     "data": {
      "text/plain": [
       "array(['Bob', 'Joe', 'Will'], dtype='<U4')"
      ]
     },
     "execution_count": 231,
     "metadata": {},
     "output_type": "execute_result"
    }
   ],
   "source": [
    "names=np.array(['Bob','Joe','Will','Bob','Joe','Will'])\n",
    "np.unique(names)"
   ]
  },
  {
   "cell_type": "code",
   "execution_count": 233,
   "id": "activated-australian",
   "metadata": {},
   "outputs": [
    {
     "data": {
      "text/plain": [
       "{'Bob', 'Joe', 'Will'}"
      ]
     },
     "execution_count": 233,
     "metadata": {},
     "output_type": "execute_result"
    }
   ],
   "source": [
    "set(names)  #set형태로 출력\n"
   ]
  },
  {
   "cell_type": "code",
   "execution_count": 234,
   "id": "humanitarian-sensitivity",
   "metadata": {},
   "outputs": [
    {
     "data": {
      "text/plain": [
       "['Bob', 'Joe', 'Will']"
      ]
     },
     "execution_count": 234,
     "metadata": {},
     "output_type": "execute_result"
    }
   ],
   "source": [
    "sorted(set(names))"
   ]
  },
  {
   "cell_type": "code",
   "execution_count": null,
   "id": "sudden-south",
   "metadata": {},
   "outputs": [],
   "source": []
  },
  {
   "cell_type": "markdown",
   "id": "informal-pepper",
   "metadata": {},
   "source": [
    "### in1d() 함수"
   ]
  },
  {
   "cell_type": "code",
   "execution_count": 239,
   "id": "exciting-attitude",
   "metadata": {},
   "outputs": [],
   "source": [
    "arr=np.array([6,0,0,3,2,5])"
   ]
  },
  {
   "cell_type": "code",
   "execution_count": 240,
   "id": "raising-hunger",
   "metadata": {},
   "outputs": [
    {
     "data": {
      "text/plain": [
       "array([ True, False, False,  True,  True, False])"
      ]
     },
     "execution_count": 240,
     "metadata": {},
     "output_type": "execute_result"
    }
   ],
   "source": [
    "np.in1d(arr, [2,3,6])  #arr의 각 원소가 [2,3,6]의 원소에 포함되어 있는지 여부 출력"
   ]
  },
  {
   "cell_type": "code",
   "execution_count": null,
   "id": "affecting-tenant",
   "metadata": {},
   "outputs": [],
   "source": []
  },
  {
   "cell_type": "code",
   "execution_count": 241,
   "id": "european-wells",
   "metadata": {},
   "outputs": [],
   "source": [
    "a=np.array([1,2,3])\n",
    "b=np.array([10,20,30])"
   ]
  },
  {
   "cell_type": "code",
   "execution_count": 244,
   "id": "recent-scott",
   "metadata": {},
   "outputs": [
    {
     "data": {
      "text/plain": [
       "array([False,  True, False])"
      ]
     },
     "execution_count": 244,
     "metadata": {},
     "output_type": "execute_result"
    }
   ],
   "source": [
    "2*a+b\n",
    "(a==2)&(b>10)"
   ]
  },
  {
   "cell_type": "code",
   "execution_count": null,
   "id": "another-burlington",
   "metadata": {},
   "outputs": [],
   "source": []
  },
  {
   "cell_type": "code",
   "execution_count": null,
   "id": "raising-british",
   "metadata": {},
   "outputs": [],
   "source": []
  },
  {
   "cell_type": "code",
   "execution_count": 245,
   "id": "controlling-genesis",
   "metadata": {},
   "outputs": [
    {
     "data": {
      "text/plain": [
       "array([[0, 1, 2],\n",
       "       [3, 4, 5]])"
      ]
     },
     "execution_count": 245,
     "metadata": {},
     "output_type": "execute_result"
    }
   ],
   "source": [
    "np.arange(6).reshape(2,3)"
   ]
  },
  {
   "cell_type": "code",
   "execution_count": 246,
   "id": "double-beatles",
   "metadata": {},
   "outputs": [
    {
     "data": {
      "text/plain": [
       "3"
      ]
     },
     "execution_count": 246,
     "metadata": {},
     "output_type": "execute_result"
    }
   ],
   "source": [
    " len(a)  #행의 개수"
   ]
  },
  {
   "cell_type": "code",
   "execution_count": 249,
   "id": "backed-directory",
   "metadata": {},
   "outputs": [
    {
     "ename": "TypeError",
     "evalue": "object of type 'numpy.int64' has no len()",
     "output_type": "error",
     "traceback": [
      "\u001b[0;31m---------------------------------------------------------------------------\u001b[0m",
      "\u001b[0;31mTypeError\u001b[0m                                 Traceback (most recent call last)",
      "\u001b[0;32m<ipython-input-249-eeeb6f4c775b>\u001b[0m in \u001b[0;36m<module>\u001b[0;34m\u001b[0m\n\u001b[0;32m----> 1\u001b[0;31m \u001b[0mlen\u001b[0m\u001b[0;34m(\u001b[0m\u001b[0ma\u001b[0m\u001b[0;34m[\u001b[0m\u001b[0;36m0\u001b[0m\u001b[0;34m]\u001b[0m\u001b[0;34m)\u001b[0m  \u001b[0;31m#열의 개수\u001b[0m\u001b[0;34m\u001b[0m\u001b[0;34m\u001b[0m\u001b[0m\n\u001b[0m",
      "\u001b[0;31mTypeError\u001b[0m: object of type 'numpy.int64' has no len()"
     ]
    }
   ],
   "source": [
    "len(a[0])  #열의 개수"
   ]
  },
  {
   "cell_type": "code",
   "execution_count": 251,
   "id": "quiet-giant",
   "metadata": {},
   "outputs": [
    {
     "data": {
      "text/plain": [
       "3"
      ]
     },
     "execution_count": 251,
     "metadata": {},
     "output_type": "execute_result"
    }
   ],
   "source": [
    "np.shape(a)[0]  #행의 개수"
   ]
  },
  {
   "cell_type": "code",
   "execution_count": 253,
   "id": "built-stick",
   "metadata": {},
   "outputs": [
    {
     "ename": "IndexError",
     "evalue": "tuple index out of range",
     "output_type": "error",
     "traceback": [
      "\u001b[0;31m---------------------------------------------------------------------------\u001b[0m",
      "\u001b[0;31mIndexError\u001b[0m                                Traceback (most recent call last)",
      "\u001b[0;32m<ipython-input-253-4d6969f50605>\u001b[0m in \u001b[0;36m<module>\u001b[0;34m\u001b[0m\n\u001b[0;32m----> 1\u001b[0;31m \u001b[0mnp\u001b[0m\u001b[0;34m.\u001b[0m\u001b[0mshape\u001b[0m\u001b[0;34m(\u001b[0m\u001b[0ma\u001b[0m\u001b[0;34m)\u001b[0m\u001b[0;34m[\u001b[0m\u001b[0;36m1\u001b[0m\u001b[0;34m]\u001b[0m  \u001b[0;31m#열의 개수\u001b[0m\u001b[0;34m\u001b[0m\u001b[0;34m\u001b[0m\u001b[0m\n\u001b[0m",
      "\u001b[0;31mIndexError\u001b[0m: tuple index out of range"
     ]
    }
   ],
   "source": [
    "np.shape(a)[1]  #열의 개수"
   ]
  },
  {
   "cell_type": "markdown",
   "id": "genuine-tuesday",
   "metadata": {},
   "source": [
    "### 리스트: 1차원\n",
    "### 리스트의 리스트:2차원\n",
    "### 리스트의 리스트의 리스트: 3차원"
   ]
  },
  {
   "cell_type": "code",
   "execution_count": 257,
   "id": "appointed-center",
   "metadata": {},
   "outputs": [
    {
     "data": {
      "text/plain": [
       "array([[[10, 11, 12, 13],\n",
       "        [14, 15, 16, 17],\n",
       "        [18, 19, 20, 21]],\n",
       "\n",
       "       [[22, 23, 24, 25],\n",
       "        [26, 27, 28, 29],\n",
       "        [30, 31, 32, 33]]])"
      ]
     },
     "execution_count": 257,
     "metadata": {},
     "output_type": "execute_result"
    }
   ],
   "source": [
    "d=np.arange(10,34).reshape(2,3,4)\n",
    "d"
   ]
  },
  {
   "cell_type": "code",
   "execution_count": 258,
   "id": "brazilian-cooperation",
   "metadata": {},
   "outputs": [
    {
     "data": {
      "text/plain": [
       "2"
      ]
     },
     "execution_count": 258,
     "metadata": {},
     "output_type": "execute_result"
    }
   ],
   "source": [
    "len(d)  #가장 바깥쪽 대괄호 안에 요소가 2개 있음"
   ]
  },
  {
   "cell_type": "code",
   "execution_count": 259,
   "id": "close-hampton",
   "metadata": {},
   "outputs": [
    {
     "data": {
      "text/plain": [
       "array([[10, 11, 12, 13],\n",
       "       [14, 15, 16, 17],\n",
       "       [18, 19, 20, 21]])"
      ]
     },
     "execution_count": 259,
     "metadata": {},
     "output_type": "execute_result"
    }
   ],
   "source": [
    "d[0]  #첫번째 행"
   ]
  },
  {
   "cell_type": "code",
   "execution_count": 260,
   "id": "solved-corpus",
   "metadata": {},
   "outputs": [
    {
     "data": {
      "text/plain": [
       "array([[22, 23, 24, 25],\n",
       "       [26, 27, 28, 29],\n",
       "       [30, 31, 32, 33]])"
      ]
     },
     "execution_count": 260,
     "metadata": {},
     "output_type": "execute_result"
    }
   ],
   "source": [
    "d[1]"
   ]
  },
  {
   "cell_type": "code",
   "execution_count": 261,
   "id": "independent-narrative",
   "metadata": {},
   "outputs": [
    {
     "data": {
      "text/plain": [
       "3"
      ]
     },
     "execution_count": 261,
     "metadata": {},
     "output_type": "execute_result"
    }
   ],
   "source": [
    "len(d[0])  #3, 바깥쪽 대괄호 안에 요소가 3개있음"
   ]
  },
  {
   "cell_type": "code",
   "execution_count": 264,
   "id": "constant-termination",
   "metadata": {},
   "outputs": [
    {
     "data": {
      "text/plain": [
       "4"
      ]
     },
     "execution_count": 264,
     "metadata": {},
     "output_type": "execute_result"
    }
   ],
   "source": [
    "len(d[0][0])  #가장 안쪽 요소의 개수 "
   ]
  },
  {
   "cell_type": "code",
   "execution_count": 267,
   "id": "tested-cambridge",
   "metadata": {},
   "outputs": [
    {
     "data": {
      "text/plain": [
       "2"
      ]
     },
     "execution_count": 267,
     "metadata": {},
     "output_type": "execute_result"
    }
   ],
   "source": [
    "np.shape(d)[0]"
   ]
  },
  {
   "cell_type": "code",
   "execution_count": null,
   "id": "personal-passport",
   "metadata": {},
   "outputs": [],
   "source": [
    "\n"
   ]
  },
  {
   "cell_type": "code",
   "execution_count": 268,
   "id": "eligible-bench",
   "metadata": {},
   "outputs": [
    {
     "data": {
      "text/plain": [
       "3"
      ]
     },
     "execution_count": 268,
     "metadata": {},
     "output_type": "execute_result"
    }
   ],
   "source": [
    "d.ndim"
   ]
  },
  {
   "cell_type": "code",
   "execution_count": 272,
   "id": "cathedral-washington",
   "metadata": {},
   "outputs": [
    {
     "data": {
      "text/plain": [
       "array([[0, 1, 2],\n",
       "       [3, 4, 5]])"
      ]
     },
     "execution_count": 272,
     "metadata": {},
     "output_type": "execute_result"
    }
   ],
   "source": [
    "a=np.arange(6).reshape(2,3)\n",
    "a"
   ]
  },
  {
   "cell_type": "code",
   "execution_count": 275,
   "id": "digital-twenty",
   "metadata": {},
   "outputs": [
    {
     "data": {
      "text/plain": [
       "5"
      ]
     },
     "execution_count": 275,
     "metadata": {},
     "output_type": "execute_result"
    }
   ],
   "source": [
    "#마지막 행의 마지막 열 출력\n",
    "a[1][2]\n",
    "#or\n",
    "a[-1][-1]"
   ]
  },
  {
   "cell_type": "code",
   "execution_count": 276,
   "id": "vietnamese-feeding",
   "metadata": {},
   "outputs": [
    {
     "data": {
      "text/plain": [
       "dtype('int64')"
      ]
     },
     "execution_count": 276,
     "metadata": {},
     "output_type": "execute_result"
    }
   ],
   "source": [
    "x=np.array([1,2])\n",
    "x.dtype"
   ]
  },
  {
   "cell_type": "code",
   "execution_count": 278,
   "id": "military-entity",
   "metadata": {},
   "outputs": [
    {
     "data": {
      "text/plain": [
       "dtype('float64')"
      ]
     },
     "execution_count": 278,
     "metadata": {},
     "output_type": "execute_result"
    }
   ],
   "source": [
    "x=np.array([1,2.0])\n",
    "x.dtype"
   ]
  },
  {
   "cell_type": "code",
   "execution_count": 279,
   "id": "lesbian-wrong",
   "metadata": {},
   "outputs": [
    {
     "data": {
      "text/plain": [
       "dtype('float32')"
      ]
     },
     "execution_count": 279,
     "metadata": {},
     "output_type": "execute_result"
    }
   ],
   "source": [
    "x=np.array([1,2],dtype='f')  #dtype이라는 속성 줄 수 있다\n",
    "x.dtype"
   ]
  },
  {
   "cell_type": "code",
   "execution_count": 280,
   "id": "entitled-elder",
   "metadata": {},
   "outputs": [
    {
     "data": {
      "text/plain": [
       "array([1., 2.], dtype=float32)"
      ]
     },
     "execution_count": 280,
     "metadata": {},
     "output_type": "execute_result"
    }
   ],
   "source": [
    "x"
   ]
  },
  {
   "cell_type": "markdown",
   "id": "innocent-newman",
   "metadata": {},
   "source": [
    "#### np.inf : 무한대\n",
    "#### np.nan : 정의할 수 없는 숫자"
   ]
  },
  {
   "cell_type": "code",
   "execution_count": 282,
   "id": "broke-christianity",
   "metadata": {},
   "outputs": [],
   "source": [
    "a=np.array([0,1,-1,0])\n",
    "b=np.array([1,0,0,0])"
   ]
  },
  {
   "cell_type": "code",
   "execution_count": 283,
   "id": "synthetic-switch",
   "metadata": {},
   "outputs": [
    {
     "name": "stderr",
     "output_type": "stream",
     "text": [
      "<ipython-input-283-aae42d317509>:1: RuntimeWarning: divide by zero encountered in true_divide\n",
      "  a/b\n",
      "<ipython-input-283-aae42d317509>:1: RuntimeWarning: invalid value encountered in true_divide\n",
      "  a/b\n"
     ]
    },
    {
     "data": {
      "text/plain": [
       "array([  0.,  inf, -inf,  nan])"
      ]
     },
     "execution_count": 283,
     "metadata": {},
     "output_type": "execute_result"
    }
   ],
   "source": [
    "a/b   #array([  0.,  inf, -inf,  nan]) 에러"
   ]
  },
  {
   "cell_type": "code",
   "execution_count": 285,
   "id": "proof-stocks",
   "metadata": {
    "scrolled": true
   },
   "outputs": [
    {
     "name": "stderr",
     "output_type": "stream",
     "text": [
      "<ipython-input-285-08bb29c3a2f2>:1: RuntimeWarning: divide by zero encountered in log\n",
      "  np.log(0)  #-inf\n"
     ]
    },
    {
     "data": {
      "text/plain": [
       "-inf"
      ]
     },
     "execution_count": 285,
     "metadata": {},
     "output_type": "execute_result"
    }
   ],
   "source": [
    "np.log(0)  #-inf"
   ]
  },
  {
   "cell_type": "markdown",
   "id": "short-realtor",
   "metadata": {},
   "source": [
    "### np.linspace() : 선형 함수"
   ]
  },
  {
   "cell_type": "code",
   "execution_count": 288,
   "id": "velvet-database",
   "metadata": {},
   "outputs": [
    {
     "data": {
      "text/plain": [
       "array([  0.,  25.,  50.,  75., 100.])"
      ]
     },
     "execution_count": 288,
     "metadata": {},
     "output_type": "execute_result"
    }
   ],
   "source": [
    "np.linspace(0,100,5)   #0~100까지 5개의 수를 구간으로 나누어 출력"
   ]
  },
  {
   "cell_type": "code",
   "execution_count": null,
   "id": "owned-renaissance",
   "metadata": {},
   "outputs": [],
   "source": []
  },
  {
   "cell_type": "code",
   "execution_count": 295,
   "id": "canadian-estimate",
   "metadata": {},
   "outputs": [
    {
     "data": {
      "text/plain": [
       "array([[ 0,  1,  2,  3],\n",
       "       [ 4,  5,  6,  7],\n",
       "       [ 8,  9, 10, 11]])"
      ]
     },
     "execution_count": 295,
     "metadata": {},
     "output_type": "execute_result"
    }
   ],
   "source": [
    "a=np.arange(12)\n",
    "a.reshape(3,4)\n",
    "#or\n",
    "a.reshape(3,-1)  #-1을 쓰면 알아서 계산해서 채워줌"
   ]
  },
  {
   "cell_type": "code",
   "execution_count": 297,
   "id": "passing-border",
   "metadata": {},
   "outputs": [
    {
     "data": {
      "text/plain": [
       "array([[[ 0,  1,  2],\n",
       "        [ 3,  4,  5]],\n",
       "\n",
       "       [[ 6,  7,  8],\n",
       "        [ 9, 10, 11]]])"
      ]
     },
     "execution_count": 297,
     "metadata": {},
     "output_type": "execute_result"
    }
   ],
   "source": [
    "a\n",
    "#2*2*3 ->3차원 배열로 reshape\n",
    "a.reshape(2,2,-1)"
   ]
  },
  {
   "cell_type": "code",
   "execution_count": 298,
   "id": "coupled-steel",
   "metadata": {},
   "outputs": [
    {
     "data": {
      "text/plain": [
       "array([[[ 0,  1],\n",
       "        [ 2,  3],\n",
       "        [ 4,  5]],\n",
       "\n",
       "       [[ 6,  7],\n",
       "        [ 8,  9],\n",
       "        [10, 11]]])"
      ]
     },
     "execution_count": 298,
     "metadata": {},
     "output_type": "execute_result"
    }
   ],
   "source": [
    "a.reshape(2,-1,2)"
   ]
  },
  {
   "cell_type": "code",
   "execution_count": 304,
   "id": "tired-retreat",
   "metadata": {},
   "outputs": [],
   "source": [
    "a=np.arange(0,12)"
   ]
  },
  {
   "cell_type": "code",
   "execution_count": 305,
   "id": "funky-recommendation",
   "metadata": {},
   "outputs": [
    {
     "data": {
      "text/plain": [
       "array([ 0,  1,  2,  3,  4,  5,  6,  7,  8,  9, 10, 11])"
      ]
     },
     "execution_count": 305,
     "metadata": {},
     "output_type": "execute_result"
    }
   ],
   "source": [
    "a"
   ]
  },
  {
   "cell_type": "code",
   "execution_count": null,
   "id": "daily-float",
   "metadata": {},
   "outputs": [],
   "source": []
  },
  {
   "cell_type": "code",
   "execution_count": 306,
   "id": "molecular-vision",
   "metadata": {},
   "outputs": [],
   "source": [
    "a=a.reshape(2,2,3)"
   ]
  },
  {
   "cell_type": "code",
   "execution_count": 307,
   "id": "mighty-button",
   "metadata": {},
   "outputs": [
    {
     "data": {
      "text/plain": [
       "array([[[ 0,  1,  2],\n",
       "        [ 3,  4,  5]],\n",
       "\n",
       "       [[ 6,  7,  8],\n",
       "        [ 9, 10, 11]]])"
      ]
     },
     "execution_count": 307,
     "metadata": {},
     "output_type": "execute_result"
    }
   ],
   "source": [
    "a"
   ]
  },
  {
   "cell_type": "markdown",
   "id": "inside-panama",
   "metadata": {},
   "source": [
    "#### # 다차원->1차원"
   ]
  },
  {
   "cell_type": "code",
   "execution_count": 312,
   "id": "organic-training",
   "metadata": {},
   "outputs": [
    {
     "data": {
      "text/plain": [
       "array([ 0,  1,  2,  3,  4,  5,  6,  7,  8,  9, 10, 11])"
      ]
     },
     "execution_count": 312,
     "metadata": {},
     "output_type": "execute_result"
    }
   ],
   "source": [
    "#3차원->1차원\n",
    "a.reshape(12,)\n",
    "#or\n",
    "a.flatten()\n",
    "#or\n",
    "a.ravel()"
   ]
  },
  {
   "cell_type": "code",
   "execution_count": 313,
   "id": "timely-smoke",
   "metadata": {},
   "outputs": [
    {
     "data": {
      "text/plain": [
       "array([0, 1, 2, 3, 4])"
      ]
     },
     "execution_count": 313,
     "metadata": {},
     "output_type": "execute_result"
    }
   ],
   "source": [
    "np.arange(5)"
   ]
  },
  {
   "cell_type": "code",
   "execution_count": 318,
   "id": "educated-cycling",
   "metadata": {},
   "outputs": [
    {
     "data": {
      "text/plain": [
       "(1, 5)"
      ]
     },
     "execution_count": 318,
     "metadata": {},
     "output_type": "execute_result"
    }
   ],
   "source": [
    "x=np.arange(5).reshape(1,5)  #2차원 데이터([[]])\n",
    "x.shape"
   ]
  },
  {
   "cell_type": "code",
   "execution_count": 323,
   "id": "incorrect-analysis",
   "metadata": {},
   "outputs": [
    {
     "data": {
      "text/plain": [
       "array([0, 1, 2, 3, 4])"
      ]
     },
     "execution_count": 323,
     "metadata": {},
     "output_type": "execute_result"
    }
   ],
   "source": [
    "x=np.arange(5)\n",
    "x"
   ]
  },
  {
   "cell_type": "markdown",
   "id": "corresponding-ability",
   "metadata": {},
   "source": [
    "### np.newaxis: 1차원 증가할 때 사용하는 함수"
   ]
  },
  {
   "cell_type": "code",
   "execution_count": 326,
   "id": "digital-parish",
   "metadata": {
    "scrolled": true
   },
   "outputs": [
    {
     "name": "stdout",
     "output_type": "stream",
     "text": [
      "[[0]\n",
      " [1]\n",
      " [2]\n",
      " [3]\n",
      " [4]]\n",
      "(5, 1)\n"
     ]
    }
   ],
   "source": [
    "#(5,)->(5,1)\n",
    "print(x[:, np.newaxis])\n",
    "print(x[:, np.newaxis].shape)"
   ]
  },
  {
   "cell_type": "markdown",
   "id": "adjusted-citizenship",
   "metadata": {},
   "source": [
    "### stack(): 데이터를 위아래 or 좌우로 합칠 때"
   ]
  },
  {
   "cell_type": "markdown",
   "id": "neither-yield",
   "metadata": {},
   "source": [
    "#### hstack: 행의 수가 같은 배열을 옆으로 연결(열이 증가)"
   ]
  },
  {
   "cell_type": "code",
   "execution_count": 328,
   "id": "secondary-citizen",
   "metadata": {},
   "outputs": [],
   "source": [
    "a=np.ones((2,3))\n",
    "b=np.zeros((2,2))"
   ]
  },
  {
   "cell_type": "code",
   "execution_count": 332,
   "id": "organic-arrest",
   "metadata": {},
   "outputs": [
    {
     "data": {
      "text/plain": [
       "array([[1., 1., 1., 0., 0.],\n",
       "       [1., 1., 1., 0., 0.]])"
      ]
     },
     "execution_count": 332,
     "metadata": {},
     "output_type": "execute_result"
    }
   ],
   "source": [
    "np.hstack([a,b])"
   ]
  },
  {
   "cell_type": "code",
   "execution_count": 334,
   "id": "unsigned-accent",
   "metadata": {},
   "outputs": [
    {
     "ename": "ValueError",
     "evalue": "all the input array dimensions for the concatenation axis must match exactly, but along dimension 1, the array at index 0 has size 3 and the array at index 1 has size 2",
     "output_type": "error",
     "traceback": [
      "\u001b[0;31m---------------------------------------------------------------------------\u001b[0m",
      "\u001b[0;31mValueError\u001b[0m                                Traceback (most recent call last)",
      "\u001b[0;32m<ipython-input-334-5d6f8d9f2751>\u001b[0m in \u001b[0;36m<module>\u001b[0;34m\u001b[0m\n\u001b[0;32m----> 1\u001b[0;31m \u001b[0mnp\u001b[0m\u001b[0;34m.\u001b[0m\u001b[0mvstack\u001b[0m\u001b[0;34m(\u001b[0m\u001b[0;34m[\u001b[0m\u001b[0ma\u001b[0m\u001b[0;34m,\u001b[0m\u001b[0mb\u001b[0m\u001b[0;34m]\u001b[0m\u001b[0;34m)\u001b[0m  \u001b[0;31m#에러\u001b[0m\u001b[0;34m\u001b[0m\u001b[0;34m\u001b[0m\u001b[0m\n\u001b[0m",
      "\u001b[0;32m<__array_function__ internals>\u001b[0m in \u001b[0;36mvstack\u001b[0;34m(*args, **kwargs)\u001b[0m\n",
      "\u001b[0;32m/Library/Frameworks/Python.framework/Versions/3.8/lib/python3.8/site-packages/numpy/core/shape_base.py\u001b[0m in \u001b[0;36mvstack\u001b[0;34m(tup)\u001b[0m\n\u001b[1;32m    281\u001b[0m     \u001b[0;32mif\u001b[0m \u001b[0;32mnot\u001b[0m \u001b[0misinstance\u001b[0m\u001b[0;34m(\u001b[0m\u001b[0marrs\u001b[0m\u001b[0;34m,\u001b[0m \u001b[0mlist\u001b[0m\u001b[0;34m)\u001b[0m\u001b[0;34m:\u001b[0m\u001b[0;34m\u001b[0m\u001b[0;34m\u001b[0m\u001b[0m\n\u001b[1;32m    282\u001b[0m         \u001b[0marrs\u001b[0m \u001b[0;34m=\u001b[0m \u001b[0;34m[\u001b[0m\u001b[0marrs\u001b[0m\u001b[0;34m]\u001b[0m\u001b[0;34m\u001b[0m\u001b[0;34m\u001b[0m\u001b[0m\n\u001b[0;32m--> 283\u001b[0;31m     \u001b[0;32mreturn\u001b[0m \u001b[0m_nx\u001b[0m\u001b[0;34m.\u001b[0m\u001b[0mconcatenate\u001b[0m\u001b[0;34m(\u001b[0m\u001b[0marrs\u001b[0m\u001b[0;34m,\u001b[0m \u001b[0;36m0\u001b[0m\u001b[0;34m)\u001b[0m\u001b[0;34m\u001b[0m\u001b[0;34m\u001b[0m\u001b[0m\n\u001b[0m\u001b[1;32m    284\u001b[0m \u001b[0;34m\u001b[0m\u001b[0m\n\u001b[1;32m    285\u001b[0m \u001b[0;34m\u001b[0m\u001b[0m\n",
      "\u001b[0;32m<__array_function__ internals>\u001b[0m in \u001b[0;36mconcatenate\u001b[0;34m(*args, **kwargs)\u001b[0m\n",
      "\u001b[0;31mValueError\u001b[0m: all the input array dimensions for the concatenation axis must match exactly, but along dimension 1, the array at index 0 has size 3 and the array at index 1 has size 2"
     ]
    }
   ],
   "source": [
    "np.vstack([a,b])  #에러"
   ]
  },
  {
   "cell_type": "code",
   "execution_count": 336,
   "id": "seven-process",
   "metadata": {},
   "outputs": [],
   "source": [
    "a=np.ones((2,3))\n",
    "b=np.zeros((2,3))"
   ]
  },
  {
   "cell_type": "code",
   "execution_count": 337,
   "id": "juvenile-jacksonville",
   "metadata": {},
   "outputs": [
    {
     "data": {
      "text/plain": [
       "array([[1., 1., 1.],\n",
       "       [1., 1., 1.],\n",
       "       [0., 0., 0.],\n",
       "       [0., 0., 0.]])"
      ]
     },
     "execution_count": 337,
     "metadata": {},
     "output_type": "execute_result"
    }
   ],
   "source": [
    "np.vstack([a,b])"
   ]
  },
  {
   "cell_type": "code",
   "execution_count": 339,
   "id": "narrow-warrant",
   "metadata": {},
   "outputs": [],
   "source": [
    "a=np.arange(6).reshape(2,3)"
   ]
  },
  {
   "cell_type": "code",
   "execution_count": 340,
   "id": "ultimate-narrative",
   "metadata": {},
   "outputs": [
    {
     "data": {
      "text/plain": [
       "array([[0, 1, 2],\n",
       "       [3, 4, 5]])"
      ]
     },
     "execution_count": 340,
     "metadata": {},
     "output_type": "execute_result"
    }
   ],
   "source": [
    "a"
   ]
  },
  {
   "cell_type": "markdown",
   "id": "minimal-anderson",
   "metadata": {},
   "source": [
    "### tile: 동일한 배열 반복하여 연결"
   ]
  },
  {
   "cell_type": "code",
   "execution_count": 341,
   "id": "finished-password",
   "metadata": {},
   "outputs": [
    {
     "data": {
      "text/plain": [
       "array([[0, 1, 2, 0, 1, 2],\n",
       "       [3, 4, 5, 3, 4, 5]])"
      ]
     },
     "execution_count": 341,
     "metadata": {},
     "output_type": "execute_result"
    }
   ],
   "source": [
    "np.tile(a,2)"
   ]
  },
  {
   "cell_type": "code",
   "execution_count": 345,
   "id": "funded-thirty",
   "metadata": {},
   "outputs": [
    {
     "data": {
      "text/plain": [
       "array([[0, 1, 2, 0, 1, 2],\n",
       "       [3, 4, 5, 3, 4, 5],\n",
       "       [0, 1, 2, 0, 1, 2],\n",
       "       [3, 4, 5, 3, 4, 5],\n",
       "       [0, 1, 2, 0, 1, 2],\n",
       "       [3, 4, 5, 3, 4, 5]])"
      ]
     },
     "execution_count": 345,
     "metadata": {},
     "output_type": "execute_result"
    }
   ],
   "source": [
    "#위->아래 방향으로 3번, 좌->우 방향으로 2번 반복\n",
    "np.tile(a,(3,2))"
   ]
  },
  {
   "cell_type": "code",
   "execution_count": null,
   "id": "neural-reservation",
   "metadata": {},
   "outputs": [],
   "source": []
  },
  {
   "cell_type": "code",
   "execution_count": 347,
   "id": "governing-oklahoma",
   "metadata": {},
   "outputs": [],
   "source": [
    "x=np.arange(5,14).reshape(3,3)"
   ]
  },
  {
   "cell_type": "code",
   "execution_count": 348,
   "id": "broad-coating",
   "metadata": {},
   "outputs": [
    {
     "data": {
      "text/plain": [
       "array([[ 5,  6,  7],\n",
       "       [ 8,  9, 10],\n",
       "       [11, 12, 13]])"
      ]
     },
     "execution_count": 348,
     "metadata": {},
     "output_type": "execute_result"
    }
   ],
   "source": [
    "x"
   ]
  },
  {
   "cell_type": "markdown",
   "id": "through-poster",
   "metadata": {},
   "source": [
    "### 기술통계함수"
   ]
  },
  {
   "cell_type": "code",
   "execution_count": 351,
   "id": "academic-connectivity",
   "metadata": {},
   "outputs": [
    {
     "data": {
      "text/plain": [
       "3"
      ]
     },
     "execution_count": 351,
     "metadata": {},
     "output_type": "execute_result"
    }
   ],
   "source": [
    "len(x)  #데이터 건수"
   ]
  },
  {
   "cell_type": "code",
   "execution_count": 352,
   "id": "early-cotton",
   "metadata": {},
   "outputs": [
    {
     "data": {
      "text/plain": [
       "9.0"
      ]
     },
     "execution_count": 352,
     "metadata": {},
     "output_type": "execute_result"
    }
   ],
   "source": [
    "np.mean(x) #평균"
   ]
  },
  {
   "cell_type": "code",
   "execution_count": 353,
   "id": "periodic-premises",
   "metadata": {},
   "outputs": [
    {
     "data": {
      "text/plain": [
       "6.666666666666667"
      ]
     },
     "execution_count": 353,
     "metadata": {},
     "output_type": "execute_result"
    }
   ],
   "source": [
    "np.var(x)  #분산"
   ]
  },
  {
   "cell_type": "code",
   "execution_count": 355,
   "id": "nonprofit-furniture",
   "metadata": {},
   "outputs": [
    {
     "data": {
      "text/plain": [
       "2.581988897471611"
      ]
     },
     "execution_count": 355,
     "metadata": {},
     "output_type": "execute_result"
    }
   ],
   "source": [
    "np.std(x)  #표준편차\n"
   ]
  },
  {
   "cell_type": "code",
   "execution_count": 357,
   "id": "colored-folder",
   "metadata": {},
   "outputs": [
    {
     "data": {
      "text/plain": [
       "9.0"
      ]
     },
     "execution_count": 357,
     "metadata": {},
     "output_type": "execute_result"
    }
   ],
   "source": [
    "np.median(x)  #중위수"
   ]
  },
  {
   "cell_type": "code",
   "execution_count": 360,
   "id": "australian-pasta",
   "metadata": {},
   "outputs": [
    {
     "data": {
      "text/plain": [
       "5.0"
      ]
     },
     "execution_count": 360,
     "metadata": {},
     "output_type": "execute_result"
    }
   ],
   "source": [
    "np.percentile(x,0)  #최소값\n",
    "np.percentile(x,25)  #1사분위수는 25% 백분위수와 같다\n",
    "np.percentile(x,50)  #2\n",
    "np.percentile(x,75)  #3\n",
    "np.percentile(x,100) #4"
   ]
  },
  {
   "cell_type": "code",
   "execution_count": 361,
   "id": "unlimited-poison",
   "metadata": {},
   "outputs": [],
   "source": [
    "np.random.seed(111)"
   ]
  },
  {
   "cell_type": "code",
   "execution_count": 362,
   "id": "generous-arrest",
   "metadata": {},
   "outputs": [
    {
     "data": {
      "text/plain": [
       "array([0.61217018, 0.16906975, 0.43605902, 0.76926247, 0.2953253 ])"
      ]
     },
     "execution_count": 362,
     "metadata": {},
     "output_type": "execute_result"
    }
   ],
   "source": [
    "np.random.rand(5)  #rand->0이상 1미만 난수"
   ]
  },
  {
   "cell_type": "code",
   "execution_count": null,
   "id": "equal-budget",
   "metadata": {},
   "outputs": [],
   "source": []
  },
  {
   "cell_type": "markdown",
   "id": "julian-blame",
   "metadata": {},
   "source": [
    "#### shuffle함수: data가 random하게 섞이게 됨"
   ]
  },
  {
   "cell_type": "code",
   "execution_count": 367,
   "id": "younger-blame",
   "metadata": {},
   "outputs": [],
   "source": [
    "x=np.arange(10)"
   ]
  },
  {
   "cell_type": "code",
   "execution_count": 368,
   "id": "chief-output",
   "metadata": {},
   "outputs": [],
   "source": [
    "np.random.shuffle(x)"
   ]
  },
  {
   "cell_type": "code",
   "execution_count": 369,
   "id": "breathing-teach",
   "metadata": {},
   "outputs": [
    {
     "data": {
      "text/plain": [
       "array([1, 7, 3, 9, 4, 8, 0, 6, 5, 2])"
      ]
     },
     "execution_count": 369,
     "metadata": {},
     "output_type": "execute_result"
    }
   ],
   "source": [
    "x"
   ]
  },
  {
   "cell_type": "markdown",
   "id": "metric-kingston",
   "metadata": {},
   "source": [
    "\n",
    "#### np.random.choice"
   ]
  },
  {
   "cell_type": "code",
   "execution_count": 373,
   "id": "transsexual-whale",
   "metadata": {},
   "outputs": [],
   "source": [
    "#데이터 샘플링 함수 프로토타입\n",
    "#np.random.choice(배열, 크기, replace, 확률)"
   ]
  },
  {
   "cell_type": "code",
   "execution_count": 374,
   "id": "sustainable-issue",
   "metadata": {},
   "outputs": [],
   "source": [
    "arr1=np.arange(11,20)"
   ]
  },
  {
   "cell_type": "code",
   "execution_count": 375,
   "id": "sexual-dylan",
   "metadata": {},
   "outputs": [
    {
     "data": {
      "text/plain": [
       "array([16, 19, 17, 13, 17])"
      ]
     },
     "execution_count": 375,
     "metadata": {},
     "output_type": "execute_result"
    }
   ],
   "source": [
    "np.random.choice(arr1,5)   #replace=True 디폴트(복원추출)-->뽑힌 수가 또 뽑힐 수 있음"
   ]
  },
  {
   "cell_type": "code",
   "execution_count": 376,
   "id": "delayed-metropolitan",
   "metadata": {},
   "outputs": [
    {
     "data": {
      "text/plain": [
       "array([4, 3, 7, 9, 3])"
      ]
     },
     "execution_count": 376,
     "metadata": {},
     "output_type": "execute_result"
    }
   ],
   "source": [
    "np.random.choice(10,5)  #10은 np.arange(10)을 의미함"
   ]
  },
  {
   "cell_type": "code",
   "execution_count": 377,
   "id": "excellent-adelaide",
   "metadata": {},
   "outputs": [
    {
     "data": {
      "text/plain": [
       "array([1, 3, 0, 4, 1])"
      ]
     },
     "execution_count": 377,
     "metadata": {},
     "output_type": "execute_result"
    }
   ],
   "source": [
    "np.random.choice(5,5) #확률이 동일함"
   ]
  },
  {
   "cell_type": "code",
   "execution_count": 378,
   "id": "tired-grill",
   "metadata": {},
   "outputs": [
    {
     "data": {
      "text/plain": [
       "array([0, 3, 1, 4, 3])"
      ]
     },
     "execution_count": 378,
     "metadata": {},
     "output_type": "execute_result"
    }
   ],
   "source": [
    "np.random.choice(5,5,p=[0.1,0.2,0,0.5,0.2])\n",
    "#0이 뽑힐 확률 0.1, 1이 뽑힐 확률 0.2...."
   ]
  },
  {
   "cell_type": "code",
   "execution_count": 380,
   "id": "numeric-conversion",
   "metadata": {},
   "outputs": [
    {
     "data": {
      "text/plain": [
       "6"
      ]
     },
     "execution_count": 380,
     "metadata": {},
     "output_type": "execute_result"
    }
   ],
   "source": [
    "np.random.randint(10)  #0~9까지 "
   ]
  },
  {
   "cell_type": "code",
   "execution_count": 381,
   "id": "solved-container",
   "metadata": {},
   "outputs": [
    {
     "data": {
      "text/plain": [
       "8"
      ]
     },
     "execution_count": 381,
     "metadata": {},
     "output_type": "execute_result"
    }
   ],
   "source": [
    "np.random.randint(5,10) #5~9까지에 해당하는 난수가 하나 나옴"
   ]
  },
  {
   "cell_type": "code",
   "execution_count": 384,
   "id": "legitimate-array",
   "metadata": {},
   "outputs": [
    {
     "data": {
      "text/plain": [
       "array([6, 9, 5, 7, 8])"
      ]
     },
     "execution_count": 384,
     "metadata": {},
     "output_type": "execute_result"
    }
   ],
   "source": [
    "np.random.randint(5,10,3)  #3개 추출\n",
    "#or\n",
    "np.random.randint(5,10,size=5) #5개 추출"
   ]
  },
  {
   "cell_type": "code",
   "execution_count": null,
   "id": "signal-validation",
   "metadata": {},
   "outputs": [],
   "source": []
  },
  {
   "cell_type": "code",
   "execution_count": 389,
   "id": "internal-houston",
   "metadata": {},
   "outputs": [
    {
     "data": {
      "text/plain": [
       "array([1, 3, 5])"
      ]
     },
     "execution_count": 389,
     "metadata": {},
     "output_type": "execute_result"
    }
   ],
   "source": [
    "x=np.unique([1,1,3,3,5])\n",
    "x"
   ]
  },
  {
   "cell_type": "code",
   "execution_count": 390,
   "id": "spectacular-workplace",
   "metadata": {},
   "outputs": [
    {
     "data": {
      "text/plain": [
       "(array([1, 3, 5]), array([2, 2, 1]))"
      ]
     },
     "execution_count": 390,
     "metadata": {},
     "output_type": "execute_result"
    }
   ],
   "source": [
    "#count값을 리턴, 1이 2개, 3이 2개, 5가 1개\n",
    "x=np.unique([1,1,3,3,5],return_counts=True)\n",
    "x"
   ]
  },
  {
   "cell_type": "code",
   "execution_count": 391,
   "id": "peaceful-proportion",
   "metadata": {},
   "outputs": [
    {
     "data": {
      "text/plain": [
       "array([1, 3, 5])"
      ]
     },
     "execution_count": 391,
     "metadata": {},
     "output_type": "execute_result"
    }
   ],
   "source": [
    "x[0]"
   ]
  },
  {
   "cell_type": "code",
   "execution_count": 392,
   "id": "specific-learning",
   "metadata": {},
   "outputs": [
    {
     "data": {
      "text/plain": [
       "array([2, 2, 1])"
      ]
     },
     "execution_count": 392,
     "metadata": {},
     "output_type": "execute_result"
    }
   ],
   "source": [
    "x[1]"
   ]
  },
  {
   "cell_type": "code",
   "execution_count": 394,
   "id": "lesbian-turkish",
   "metadata": {},
   "outputs": [
    {
     "data": {
      "text/plain": [
       "array([1, 3, 5])"
      ]
     },
     "execution_count": 394,
     "metadata": {},
     "output_type": "execute_result"
    }
   ],
   "source": [
    "#or\n",
    "idx,cnt=np.unique([1,1,3,3,5],return_counts=True)\n",
    "idx"
   ]
  },
  {
   "cell_type": "code",
   "execution_count": 395,
   "id": "statewide-wallace",
   "metadata": {},
   "outputs": [
    {
     "data": {
      "text/plain": [
       "array([2, 2, 1])"
      ]
     },
     "execution_count": 395,
     "metadata": {},
     "output_type": "execute_result"
    }
   ],
   "source": [
    "cnt"
   ]
  },
  {
   "cell_type": "code",
   "execution_count": 397,
   "id": "danish-yellow",
   "metadata": {},
   "outputs": [],
   "source": [
    "#주사위를 5번 던져서 나온 수 집합=[1,1,3,3,5]\n",
    "#2 0 2 0 1 0\n"
   ]
  },
  {
   "cell_type": "code",
   "execution_count": 399,
   "id": "thermal-layout",
   "metadata": {},
   "outputs": [
    {
     "data": {
      "text/plain": [
       "array([0, 2, 0, 2, 0, 1, 0])"
      ]
     },
     "execution_count": 399,
     "metadata": {},
     "output_type": "execute_result"
    }
   ],
   "source": [
    "np.bincount([1,1,3,3,5],minlength=7)  #0~6까지가 count범위\n",
    "\n",
    "#bincount는 0부터 센다\n",
    "#array([0, 2, 0, 2, 0, 1, 0])\n",
    "#->0이 0개, 1이 2개, 2가 0개, 3이 2개, 4가 0개, 5가 1개, 6이 0개"
   ]
  },
  {
   "cell_type": "code",
   "execution_count": 402,
   "id": "efficient-walter",
   "metadata": {},
   "outputs": [],
   "source": [
    "d\n",
    "d=d[1:]"
   ]
  },
  {
   "cell_type": "code",
   "execution_count": 403,
   "id": "overhead-horizontal",
   "metadata": {},
   "outputs": [
    {
     "data": {
      "text/plain": [
       "array([], shape=(0, 3, 4), dtype=int64)"
      ]
     },
     "execution_count": 403,
     "metadata": {},
     "output_type": "execute_result"
    }
   ],
   "source": [
    "d"
   ]
  },
  {
   "cell_type": "code",
   "execution_count": 409,
   "id": "grave-rochester",
   "metadata": {},
   "outputs": [
    {
     "data": {
      "text/plain": [
       "array([39, 44, 11,  1, 19, 37, 35])"
      ]
     },
     "execution_count": 409,
     "metadata": {},
     "output_type": "execute_result"
    }
   ],
   "source": [
    "# 퀴즈\n",
    "#넘파이 난수 생성->로또 생성\n",
    "np.random.randint(1,46,7)\n"
   ]
  },
  {
   "cell_type": "code",
   "execution_count": 407,
   "id": "bored-baseball",
   "metadata": {},
   "outputs": [
    {
     "data": {
      "text/plain": [
       "array([45, 26, 18, 20,  2, 30, 32])"
      ]
     },
     "execution_count": 407,
     "metadata": {},
     "output_type": "execute_result"
    }
   ],
   "source": [
    "#or \n",
    "num =np.arange(1,46)\n",
    "\n",
    "np.random.choice(num,7,replace=False)"
   ]
  },
  {
   "cell_type": "code",
   "execution_count": null,
   "id": "cellular-treatment",
   "metadata": {},
   "outputs": [],
   "source": []
  }
 ],
 "metadata": {
  "kernelspec": {
   "display_name": "Python 3",
   "language": "python",
   "name": "python3"
  },
  "language_info": {
   "codemirror_mode": {
    "name": "ipython",
    "version": 3
   },
   "file_extension": ".py",
   "mimetype": "text/x-python",
   "name": "python",
   "nbconvert_exporter": "python",
   "pygments_lexer": "ipython3",
   "version": "3.8.6"
  }
 },
 "nbformat": 4,
 "nbformat_minor": 5
}
