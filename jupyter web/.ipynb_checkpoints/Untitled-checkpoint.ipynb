{
 "cells": [
  {
   "cell_type": "code",
   "execution_count": 27,
   "id": "automated-terrace",
   "metadata": {},
   "outputs": [],
   "source": [
    "from selenium import webdriver\n",
    "from bs4 import BeautifulSoup\n",
    "driver=webdriver.Chrome('/Users/junmishin/chromedriver')"
   ]
  },
  {
   "cell_type": "code",
   "execution_count": 28,
   "id": "united-treasurer",
   "metadata": {},
   "outputs": [],
   "source": [
    "\n",
    "url=\"https://movie.naver.com/\"\n",
    "driver.get(url)"
   ]
  },
  {
   "cell_type": "code",
   "execution_count": 29,
   "id": "mounted-tiffany",
   "metadata": {},
   "outputs": [],
   "source": [
    "html=driver.page_source\n",
    "\n",
    "soup=BeautifulSoup(html,\"html.parser\")"
   ]
  },
  {
   "cell_type": "code",
   "execution_count": 30,
   "id": "operating-cable",
   "metadata": {},
   "outputs": [],
   "source": [
    "import time\n"
   ]
  },
  {
   "cell_type": "code",
   "execution_count": 31,
   "id": "engaged-double",
   "metadata": {},
   "outputs": [],
   "source": [
    "path=\"#RESERVE_tab > a > em\"\n"
   ]
  },
  {
   "cell_type": "code",
   "execution_count": 32,
   "id": "boolean-major",
   "metadata": {},
   "outputs": [],
   "source": [
    "driver.find_element_by_css_selector(path).click()\n",
    "time.sleep(2)\n",
    "moviepath=\"#flick0 > li.item1 > div.obj_off.tab4 > a > span.mask\"\n"
   ]
  },
  {
   "cell_type": "code",
   "execution_count": 33,
   "id": "celtic-senate",
   "metadata": {},
   "outputs": [],
   "source": [
    "driver.find_element_by_css_selector(moviepath).click()"
   ]
  },
  {
   "cell_type": "code",
   "execution_count": 34,
   "id": "binary-madrid",
   "metadata": {},
   "outputs": [],
   "source": [
    "time.sleep(2)"
   ]
  },
  {
   "cell_type": "code",
   "execution_count": 35,
   "id": "straight-atmosphere",
   "metadata": {},
   "outputs": [],
   "source": [
    "reviewBtn=\"#movieEndTabMenu > li:nth-child(6) > a > em\"\n",
    "driver.find_element_by_css_selector(reviewBtn).click()\n",
    "time.sleep(2)"
   ]
  },
  {
   "cell_type": "code",
   "execution_count": 36,
   "id": "judicial-vector",
   "metadata": {},
   "outputs": [],
   "source": [
    "html=driver.page_source\n",
    "soup=BeautifulSoup(html,\"html.parser\")\n"
   ]
  },
  {
   "cell_type": "code",
   "execution_count": null,
   "id": "preceding-recording",
   "metadata": {},
   "outputs": [],
   "source": [
    "reviewlists=soup.select(#reviewTab > div > div"
   ]
  }
 ],
 "metadata": {
  "kernelspec": {
   "display_name": "Python 3",
   "language": "python",
   "name": "python3"
  },
  "language_info": {
   "codemirror_mode": {
    "name": "ipython",
    "version": 3
   },
   "file_extension": ".py",
   "mimetype": "text/x-python",
   "name": "python",
   "nbconvert_exporter": "python",
   "pygments_lexer": "ipython3",
   "version": "3.8.6"
  }
 },
 "nbformat": 4,
 "nbformat_minor": 5
}
